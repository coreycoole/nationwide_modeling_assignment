{
 "cells": [
  {
   "cell_type": "code",
   "execution_count": 0,
   "metadata": {
    "colab": {},
    "colab_type": "code",
    "id": "HYaIS32lCTae"
   },
   "outputs": [],
   "source": [
    "import warnings\n",
    "warnings.filterwarnings(\"ignore\")\n",
    "\n",
    "import pandas as pd\n",
    "import numpy as np\n",
    "import matplotlib.pyplot as plt\n",
    "import seaborn as sns\n",
    "import missingno as msno \n",
    "\n",
    "from matplotlib import pyplot\n",
    "from sklearn.model_selection import train_test_split, RepeatedStratifiedKFold\n",
    "from sklearn.model_selection import KFold\n",
    "from sklearn.model_selection import cross_val_score\n",
    "from sklearn.model_selection import GridSearchCV\n",
    "from sklearn.linear_model import LogisticRegression\n",
    "from xgboost import XGBClassifier\n",
    "from sklearn.model_selection import train_test_split\n",
    "from sklearn.metrics import precision_score, recall_score, f1_score, roc_auc_score, accuracy_score, classification_report\n",
    "from sklearn.metrics import confusion_matrix, precision_recall_curve, auc, roc_curve"
   ]
  },
  {
   "cell_type": "markdown",
   "metadata": {
    "colab_type": "text",
    "id": "r7WQa6qcFCrM"
   },
   "source": [
    "**5 csv files A,B from separate data sources, will need to be merged as well as 'response' csv**\n"
   ]
  },
  {
   "cell_type": "code",
   "execution_count": 0,
   "metadata": {
    "colab": {},
    "colab_type": "code",
    "id": "yF09BhX9Ceg8"
   },
   "outputs": [],
   "source": [
    "df_featuresGroupAlearning = pd.read_csv('featuresGroupAlearning.csv', sep=',')\n",
    "\n",
    "df_featuresGroupAprediction = pd.read_csv('featuresGroupAprediction.csv', sep=',')\n",
    "\n",
    "df_featuresGroupBlearning = pd.read_csv('featuresGroupBlearning.csv', sep=',')\n",
    "\n",
    "df_featuresGroupBprediction = pd.read_csv('featuresGroupBprediction.csv', sep=',')\n",
    "\n",
    "df_responseLearning = pd.read_csv('responseLearning.csv', sep=',')"
   ]
  },
  {
   "cell_type": "markdown",
   "metadata": {
    "colab_type": "text",
    "id": "41MTAb-IO_VJ"
   },
   "source": [
    "**Check that all Ids are unique**"
   ]
  },
  {
   "cell_type": "code",
   "execution_count": 0,
   "metadata": {
    "colab": {},
    "colab_type": "code",
    "id": "FdjtN_IbOgrw"
   },
   "outputs": [],
   "source": [
    "def check_unique(df):\n",
    "    df_list = df['id'].tolist()\n",
    "    \n",
    "    flag = len(set(df_list)) == len(df_list)\n",
    "\n",
    "    if(flag) : \n",
    "        print (\"contains all unique id's\") \n",
    "    else :  \n",
    "        print (\"does not contains all unique id's\")"
   ]
  },
  {
   "cell_type": "code",
   "execution_count": 67,
   "metadata": {
    "colab": {
     "base_uri": "https://localhost:8080/",
     "height": 34
    },
    "colab_type": "code",
    "id": "aXPmhRFfOglu",
    "outputId": "028a312b-5356-4372-85a0-eede81e42922"
   },
   "outputs": [
    {
     "name": "stdout",
     "output_type": "stream",
     "text": [
      "contains all unique id's\n"
     ]
    }
   ],
   "source": [
    "check_unique(df_featuresGroupAlearning)"
   ]
  },
  {
   "cell_type": "code",
   "execution_count": 68,
   "metadata": {
    "colab": {
     "base_uri": "https://localhost:8080/",
     "height": 34
    },
    "colab_type": "code",
    "id": "ZnuD3FppPSTK",
    "outputId": "a1ea7f5d-2b78-4d13-f37d-5d5c30336eca"
   },
   "outputs": [
    {
     "name": "stdout",
     "output_type": "stream",
     "text": [
      "contains all unique id's\n"
     ]
    }
   ],
   "source": [
    "check_unique(df_featuresGroupAprediction)"
   ]
  },
  {
   "cell_type": "code",
   "execution_count": 69,
   "metadata": {
    "colab": {
     "base_uri": "https://localhost:8080/",
     "height": 34
    },
    "colab_type": "code",
    "id": "3H_YNxCFPSZN",
    "outputId": "45c79746-29f8-48dc-e671-836bae357709"
   },
   "outputs": [
    {
     "name": "stdout",
     "output_type": "stream",
     "text": [
      "contains all unique id's\n"
     ]
    }
   ],
   "source": [
    "check_unique(df_featuresGroupBlearning)"
   ]
  },
  {
   "cell_type": "code",
   "execution_count": 70,
   "metadata": {
    "colab": {
     "base_uri": "https://localhost:8080/",
     "height": 34
    },
    "colab_type": "code",
    "id": "8EdK455GPSf8",
    "outputId": "175d82ba-0896-4078-95a3-5c8a05779973"
   },
   "outputs": [
    {
     "name": "stdout",
     "output_type": "stream",
     "text": [
      "contains all unique id's\n"
     ]
    }
   ],
   "source": [
    "check_unique(df_featuresGroupBprediction)"
   ]
  },
  {
   "cell_type": "code",
   "execution_count": 71,
   "metadata": {
    "colab": {
     "base_uri": "https://localhost:8080/",
     "height": 34
    },
    "colab_type": "code",
    "id": "knTvjbNiPSkN",
    "outputId": "8ee3586b-e303-4963-c208-45590507e2bf"
   },
   "outputs": [
    {
     "name": "stdout",
     "output_type": "stream",
     "text": [
      "contains all unique id's\n"
     ]
    }
   ],
   "source": [
    "check_unique(df_responseLearning)"
   ]
  },
  {
   "cell_type": "markdown",
   "metadata": {
    "colab_type": "text",
    "id": "DH794FpVN1Vm"
   },
   "source": [
    "**Check Data Missingness**"
   ]
  },
  {
   "cell_type": "code",
   "execution_count": 72,
   "metadata": {
    "colab": {
     "base_uri": "https://localhost:8080/",
     "height": 662
    },
    "colab_type": "code",
    "id": "xStRYBWCFmDv",
    "outputId": "b4ba73d8-4425-4954-f977-4b3642479c5c"
   },
   "outputs": [
    {
     "data": {
      "text/plain": [
       "<matplotlib.axes._subplots.AxesSubplot at 0x7f99a6a591d0>"
      ]
     },
     "execution_count": 72,
     "metadata": {
      "tags": []
     },
     "output_type": "execute_result"
    },
    {
     "data": {
      "image/png": "[encoded data removed]",
      "text/plain": [
       "<Figure size 1800x720 with 2 Axes>"
      ]
     },
     "metadata": {
      "tags": []
     },
     "output_type": "display_data"
    }
   ],
   "source": [
    "msno.matrix(df_featuresGroupAlearning) "
   ]
  },
  {
   "cell_type": "code",
   "execution_count": 73,
   "metadata": {
    "colab": {
     "base_uri": "https://localhost:8080/",
     "height": 357
    },
    "colab_type": "code",
    "id": "8MXJnzAiGWvS",
    "outputId": "611f8eb5-3384-42eb-fc9b-9be635ddc253"
   },
   "outputs": [
    {
     "data": {
      "text/plain": [
       "id       0\n",
       "a00      4\n",
       "a01      0\n",
       "a02    128\n",
       "a03    129\n",
       "a04    133\n",
       "a05    121\n",
       "a06    122\n",
       "a07    137\n",
       "a08    115\n",
       "a09    106\n",
       "a10    102\n",
       "a11    136\n",
       "a12      3\n",
       "a13    113\n",
       "a14      2\n",
       "a15      5\n",
       "a16    128\n",
       "a17    142\n",
       "dtype: int64"
      ]
     },
     "execution_count": 73,
     "metadata": {
      "tags": []
     },
     "output_type": "execute_result"
    }
   ],
   "source": [
    "df_featuresGroupAlearning.isnull().sum() "
   ]
  },
  {
   "cell_type": "code",
   "execution_count": 74,
   "metadata": {
    "colab": {
     "base_uri": "https://localhost:8080/",
     "height": 630
    },
    "colab_type": "code",
    "id": "z1kUGAgjGPag",
    "outputId": "908abb10-252a-4d85-85fe-f7fffeb0dfbe"
   },
   "outputs": [
    {
     "data": {
      "text/plain": [
       "<matplotlib.axes._subplots.AxesSubplot at 0x7f999aa94898>"
      ]
     },
     "execution_count": 74,
     "metadata": {
      "tags": []
     },
     "output_type": "execute_result"
    },
    {
     "data": {
      "image/png": "[encoded data removed]",
      "text/plain": [
       "<Figure size 1800x720 with 2 Axes>"
      ]
     },
     "metadata": {
      "tags": []
     },
     "output_type": "display_data"
    }
   ],
   "source": [
    "msno.matrix(df_featuresGroupBlearning) "
   ]
  },
  {
   "cell_type": "code",
   "execution_count": 75,
   "metadata": {
    "colab": {
     "base_uri": "https://localhost:8080/",
     "height": 221
    },
    "colab_type": "code",
    "id": "WbUyL2DtGiKW",
    "outputId": "cafebea3-1674-438a-acc4-9d6ecaf52174"
   },
   "outputs": [
    {
     "data": {
      "text/plain": [
       "id      0\n",
       "code    1\n",
       "b00     3\n",
       "b01     6\n",
       "b02     2\n",
       "       ..\n",
       "b55     4\n",
       "b56     2\n",
       "b57     3\n",
       "b58     4\n",
       "zip     0\n",
       "Length: 62, dtype: int64"
      ]
     },
     "execution_count": 75,
     "metadata": {
      "tags": []
     },
     "output_type": "execute_result"
    }
   ],
   "source": [
    "df_featuresGroupBlearning.isnull().sum() "
   ]
  },
  {
   "cell_type": "markdown",
   "metadata": {
    "colab_type": "text",
    "id": "o8tD5LgpGAbb"
   },
   "source": [
    "**From this missingness graph we see no clear pattern in null data**"
   ]
  },
  {
   "cell_type": "code",
   "execution_count": 0,
   "metadata": {
    "colab": {},
    "colab_type": "code",
    "id": "Y8RiKapJN0jz"
   },
   "outputs": [],
   "source": [
    "def nans(df): return df[df.isnull().any(axis=1)] #function to return null data"
   ]
  },
  {
   "cell_type": "code",
   "execution_count": 77,
   "metadata": {
    "colab": {
     "base_uri": "https://localhost:8080/",
     "height": 49
    },
    "colab_type": "code",
    "id": "BgrlqFvQVe0F",
    "outputId": "e2183d53-069c-4cc6-e528-d32494aa4e65"
   },
   "outputs": [
    {
     "data": {
      "text/html": [
       "<div>\n",
       "<style scoped>\n",
       "    .dataframe tbody tr th:only-of-type {\n",
       "        vertical-align: middle;\n",
       "    }\n",
       "\n",
       "    .dataframe tbody tr th {\n",
       "        vertical-align: top;\n",
       "    }\n",
       "\n",
       "    .dataframe thead th {\n",
       "        text-align: right;\n",
       "    }\n",
       "</style>\n",
       "<table border=\"1\" class=\"dataframe\">\n",
       "  <thead>\n",
       "    <tr style=\"text-align: right;\">\n",
       "      <th></th>\n",
       "      <th>id</th>\n",
       "      <th>y</th>\n",
       "    </tr>\n",
       "  </thead>\n",
       "  <tbody>\n",
       "  </tbody>\n",
       "</table>\n",
       "</div>"
      ],
      "text/plain": [
       "Empty DataFrame\n",
       "Columns: [id, y]\n",
       "Index: []"
      ]
     },
     "execution_count": 77,
     "metadata": {
      "tags": []
     },
     "output_type": "execute_result"
    }
   ],
   "source": [
    "nans(df_responseLearning)"
   ]
  },
  {
   "cell_type": "markdown",
   "metadata": {
    "colab_type": "text",
    "id": "PMgwQLIuPalJ"
   },
   "source": [
    "**Combine Group A, Group B, Response Dataframes**"
   ]
  },
  {
   "cell_type": "code",
   "execution_count": 78,
   "metadata": {
    "colab": {
     "base_uri": "https://localhost:8080/",
     "height": 34
    },
    "colab_type": "code",
    "id": "BqGEwmXsPeiD",
    "outputId": "de53376a-d934-448b-e25c-59e1630703eb"
   },
   "outputs": [
    {
     "data": {
      "text/plain": [
       "(12073, 80)"
      ]
     },
     "execution_count": 78,
     "metadata": {
      "tags": []
     },
     "output_type": "execute_result"
    }
   ],
   "source": [
    "df_A_B_learning = pd.merge(left=df_featuresGroupAlearning, right=df_featuresGroupBlearning, left_on='id', right_on='id')\n",
    "df_A_B_learning.shape"
   ]
  },
  {
   "cell_type": "code",
   "execution_count": 79,
   "metadata": {
    "colab": {
     "base_uri": "https://localhost:8080/",
     "height": 34
    },
    "colab_type": "code",
    "id": "rNwn0nE_PesN",
    "outputId": "a4e654f3-6706-4e6d-cbee-f61f8d513582"
   },
   "outputs": [
    {
     "data": {
      "text/plain": [
       "(12073, 81)"
      ]
     },
     "execution_count": 79,
     "metadata": {
      "tags": []
     },
     "output_type": "execute_result"
    }
   ],
   "source": [
    "df_A_B_learn_response = pd.merge(left=df_A_B_learning, right=df_responseLearning, left_on='id', right_on='id')\n",
    "df_A_B_learn_response.shape"
   ]
  },
  {
   "cell_type": "code",
   "execution_count": 80,
   "metadata": {
    "colab": {
     "base_uri": "https://localhost:8080/",
     "height": 34
    },
    "colab_type": "code",
    "id": "vrv8YYqyPezc",
    "outputId": "77805aae-13c8-496e-d8fb-161e6fbad5c7"
   },
   "outputs": [
    {
     "data": {
      "text/plain": [
       "(5366, 80)"
      ]
     },
     "execution_count": 80,
     "metadata": {
      "tags": []
     },
     "output_type": "execute_result"
    }
   ],
   "source": [
    "df_A_B_prediction = pd.merge(left=df_featuresGroupAprediction, right=df_featuresGroupBprediction, left_on='id', right_on='id')\n",
    "df_A_B_prediction.shape"
   ]
  },
  {
   "cell_type": "markdown",
   "metadata": {
    "colab_type": "text",
    "id": "5XTfDMMoPte4"
   },
   "source": [
    "**Check Data Types**"
   ]
  },
  {
   "cell_type": "code",
   "execution_count": 81,
   "metadata": {
    "colab": {
     "base_uri": "https://localhost:8080/",
     "height": 34
    },
    "colab_type": "code",
    "id": "GBucSt06P1Qj",
    "outputId": "39ae3781-dda7-4e86-af9d-46e1a217f92e"
   },
   "outputs": [
    {
     "data": {
      "text/plain": [
       "array([dtype('O'), dtype('float64'), dtype('int64')], dtype=object)"
      ]
     },
     "execution_count": 81,
     "metadata": {
      "tags": []
     },
     "output_type": "execute_result"
    }
   ],
   "source": [
    "df_A_B_learn_response.dtypes.unique()"
   ]
  },
  {
   "cell_type": "code",
   "execution_count": 82,
   "metadata": {
    "colab": {
     "base_uri": "https://localhost:8080/",
     "height": 204
    },
    "colab_type": "code",
    "id": "_kN4vyr-P3i_",
    "outputId": "5a27b34b-388c-4ba6-bf38-080a84595332"
   },
   "outputs": [
    {
     "data": {
      "text/html": [
       "<div>\n",
       "<style scoped>\n",
       "    .dataframe tbody tr th:only-of-type {\n",
       "        vertical-align: middle;\n",
       "    }\n",
       "\n",
       "    .dataframe tbody tr th {\n",
       "        vertical-align: top;\n",
       "    }\n",
       "\n",
       "    .dataframe thead th {\n",
       "        text-align: right;\n",
       "    }\n",
       "</style>\n",
       "<table border=\"1\" class=\"dataframe\">\n",
       "  <thead>\n",
       "    <tr style=\"text-align: right;\">\n",
       "      <th></th>\n",
       "      <th>id</th>\n",
       "      <th>b00</th>\n",
       "      <th>b21</th>\n",
       "      <th>b34</th>\n",
       "      <th>b35</th>\n",
       "      <th>b58</th>\n",
       "    </tr>\n",
       "  </thead>\n",
       "  <tbody>\n",
       "    <tr>\n",
       "      <th>0</th>\n",
       "      <td>8181-59</td>\n",
       "      <td>$1560.56</td>\n",
       "      <td>Central</td>\n",
       "      <td>Wed.</td>\n",
       "      <td>0.01</td>\n",
       "      <td>June</td>\n",
       "    </tr>\n",
       "    <tr>\n",
       "      <th>1</th>\n",
       "      <td>7003-58</td>\n",
       "      <td>$892.23</td>\n",
       "      <td>Central</td>\n",
       "      <td>thu</td>\n",
       "      <td>-0.0%</td>\n",
       "      <td>Jun</td>\n",
       "    </tr>\n",
       "    <tr>\n",
       "      <th>2</th>\n",
       "      <td>8747-13</td>\n",
       "      <td>537.09</td>\n",
       "      <td>Central</td>\n",
       "      <td>Wednesday</td>\n",
       "      <td>0.01</td>\n",
       "      <td>june</td>\n",
       "    </tr>\n",
       "    <tr>\n",
       "      <th>3</th>\n",
       "      <td>1036-58</td>\n",
       "      <td>$634.36</td>\n",
       "      <td>Central</td>\n",
       "      <td>Wed.</td>\n",
       "      <td>-0.01</td>\n",
       "      <td>June</td>\n",
       "    </tr>\n",
       "    <tr>\n",
       "      <th>4</th>\n",
       "      <td>6205-73</td>\n",
       "      <td>-142.24</td>\n",
       "      <td>Central</td>\n",
       "      <td>Wednesday</td>\n",
       "      <td>0.0 %</td>\n",
       "      <td>jul</td>\n",
       "    </tr>\n",
       "  </tbody>\n",
       "</table>\n",
       "</div>"
      ],
      "text/plain": [
       "        id       b00      b21        b34    b35   b58\n",
       "0  8181-59  $1560.56  Central       Wed.   0.01  June\n",
       "1  7003-58   $892.23  Central        thu  -0.0%   Jun\n",
       "2  8747-13    537.09  Central  Wednesday   0.01  june\n",
       "3  1036-58   $634.36  Central       Wed.  -0.01  June\n",
       "4  6205-73   -142.24  Central  Wednesday  0.0 %   jul"
      ]
     },
     "execution_count": 82,
     "metadata": {
      "tags": []
     },
     "output_type": "execute_result"
    }
   ],
   "source": [
    "df_A_B_learn_response.select_dtypes('object').head()"
   ]
  },
  {
   "cell_type": "markdown",
   "metadata": {
    "colab_type": "text",
    "id": "Pc_pHrkrQM4u"
   },
   "source": [
    "**Clean up non-standardized data entries**"
   ]
  },
  {
   "cell_type": "markdown",
   "metadata": {
    "colab_type": "text",
    "id": "jGF15rn_QaSA"
   },
   "source": [
    "**column: b00**"
   ]
  },
  {
   "cell_type": "code",
   "execution_count": 83,
   "metadata": {
    "colab": {
     "base_uri": "https://localhost:8080/",
     "height": 51
    },
    "colab_type": "code",
    "id": "rLsAhzl4QHhE",
    "outputId": "732659f2-0e80-4c3d-8a69-7f6676928a92"
   },
   "outputs": [
    {
     "data": {
      "text/plain": [
       "array(['$1560.56', '$892.23', '537.09', ..., '-990.07', '$-1693.33',\n",
       "       '$ 1821.45'], dtype=object)"
      ]
     },
     "execution_count": 83,
     "metadata": {
      "tags": []
     },
     "output_type": "execute_result"
    }
   ],
   "source": [
    "df_A_B_learn_response.b00.unique()"
   ]
  },
  {
   "cell_type": "code",
   "execution_count": 0,
   "metadata": {
    "colab": {},
    "colab_type": "code",
    "id": "NJAPBlobDe6o"
   },
   "outputs": [],
   "source": [
    "df_A_B_learn_response['b00'] = df_A_B_learn_response['b00'].astype(str)\n",
    "\n",
    "df_A_B_learn_response['b00'] = df_A_B_learn_response['b00'].str.replace(' ', '')\n",
    "df_A_B_learn_response['b00'] = df_A_B_learn_response['b00'].str.replace('$', '')\n",
    "\n",
    "df_A_B_learn_response['b00'] = df_A_B_learn_response['b00'].astype(float)"
   ]
  },
  {
   "cell_type": "code",
   "execution_count": 85,
   "metadata": {
    "colab": {
     "base_uri": "https://localhost:8080/",
     "height": 34
    },
    "colab_type": "code",
    "id": "fRghS6kvQXJo",
    "outputId": "ba7baa52-91de-4cf0-bfae-778396ce942c"
   },
   "outputs": [
    {
     "data": {
      "text/plain": [
       "array([ 1560.56,   892.23,   537.09, ...,  -990.07, -1693.33,  1821.45])"
      ]
     },
     "execution_count": 85,
     "metadata": {
      "tags": []
     },
     "output_type": "execute_result"
    }
   ],
   "source": [
    "df_A_B_learn_response['b00'].unique()"
   ]
  },
  {
   "cell_type": "markdown",
   "metadata": {
    "colab_type": "text",
    "id": "ZMQSQqyNQZhl"
   },
   "source": [
    "**column: b21**"
   ]
  },
  {
   "cell_type": "code",
   "execution_count": 86,
   "metadata": {
    "colab": {
     "base_uri": "https://localhost:8080/",
     "height": 34
    },
    "colab_type": "code",
    "id": "4yW0whxsQj1z",
    "outputId": "b38fe58c-84a4-4879-8b6c-71e38ab44003"
   },
   "outputs": [
    {
     "data": {
      "text/plain": [
       "array(['Central', 'East', 'West', nan], dtype=object)"
      ]
     },
     "execution_count": 86,
     "metadata": {
      "tags": []
     },
     "output_type": "execute_result"
    }
   ],
   "source": [
    "df_A_B_learn_response.b21.unique()"
   ]
  },
  {
   "cell_type": "markdown",
   "metadata": {
    "colab_type": "text",
    "id": "Rs_ZQq7HQmh6"
   },
   "source": [
    "**column: b34**"
   ]
  },
  {
   "cell_type": "code",
   "execution_count": 87,
   "metadata": {
    "colab": {
     "base_uri": "https://localhost:8080/",
     "height": 102
    },
    "colab_type": "code",
    "id": "nCNoPGycQtuW",
    "outputId": "7426b1a3-a912-410b-d08c-67a997720756"
   },
   "outputs": [
    {
     "data": {
      "text/plain": [
       "array(['Wed.', 'thu', 'Wednesday', 'wednesday', 'Tuesday', 'Thursday',\n",
       "       'thu.', 'Wed', 'tue', 'wed', 'Thu', 'Thu.', 'thursday', 'Fri',\n",
       "       'Tue', 'fri', 'Tue.', 'friday', 'tue.', 'tuesday', 'Friday',\n",
       "       'fri.', 'thurday', 'Fri.', 'Mon', 'mon.', nan, 'mon', 'Monday',\n",
       "       'monday', 'Wendsday', 'wendsday'], dtype=object)"
      ]
     },
     "execution_count": 87,
     "metadata": {
      "tags": []
     },
     "output_type": "execute_result"
    }
   ],
   "source": [
    "df_A_B_learn_response.b34.unique()"
   ]
  },
  {
   "cell_type": "code",
   "execution_count": 0,
   "metadata": {
    "colab": {},
    "colab_type": "code",
    "id": "_T4MPW2qDhoH"
   },
   "outputs": [],
   "source": [
    "df_A_B_learn_response['b34'] = df_A_B_learn_response['b34'].astype(str)\n",
    "\n",
    "df_A_B_learn_response['b34'] = df_A_B_learn_response['b34'].str.replace(' ', '')\n",
    "df_A_B_learn_response['b34'] = df_A_B_learn_response['b34'].str.replace('.', '')"
   ]
  },
  {
   "cell_type": "code",
   "execution_count": 89,
   "metadata": {
    "colab": {
     "base_uri": "https://localhost:8080/",
     "height": 85
    },
    "colab_type": "code",
    "id": "4qdYuSveQyK6",
    "outputId": "df0dd2df-70b2-4afd-cf3e-3a52356b2cce"
   },
   "outputs": [
    {
     "data": {
      "text/plain": [
       "array(['Wed', 'thu', 'Wednesday', 'wednesday', 'Tuesday', 'Thursday',\n",
       "       'tue', 'wed', 'Thu', 'thursday', 'Fri', 'Tue', 'fri', 'friday',\n",
       "       'tuesday', 'Friday', 'thurday', 'Mon', 'mon', 'nan', 'Monday',\n",
       "       'monday', 'Wendsday', 'wendsday'], dtype=object)"
      ]
     },
     "execution_count": 89,
     "metadata": {
      "tags": []
     },
     "output_type": "execute_result"
    }
   ],
   "source": [
    "df_A_B_learn_response['b34'].unique()"
   ]
  },
  {
   "cell_type": "markdown",
   "metadata": {
    "colab_type": "text",
    "id": "6GrU2SzUGU1d"
   },
   "source": [
    "**Create a function to clean up the various weekday typos**"
   ]
  },
  {
   "cell_type": "code",
   "execution_count": 0,
   "metadata": {
    "colab": {},
    "colab_type": "code",
    "id": "TLPssV95Dj-H"
   },
   "outputs": [],
   "source": [
    "def clean_weekdays(df,typos,day):\n",
    "    df = df.replace(dict.fromkeys(typos, day))  \n",
    "    return(df)"
   ]
  },
  {
   "cell_type": "code",
   "execution_count": 0,
   "metadata": {
    "colab": {},
    "colab_type": "code",
    "id": "s6Si0JnRDlbP"
   },
   "outputs": [],
   "source": [
    "df_clean = df_A_B_learn_response"
   ]
  },
  {
   "cell_type": "code",
   "execution_count": 92,
   "metadata": {
    "colab": {
     "base_uri": "https://localhost:8080/",
     "height": 51
    },
    "colab_type": "code",
    "id": "KNOGT6XWDo_v",
    "outputId": "909db785-0fdf-4c10-8d0b-7c23d6f849c6"
   },
   "outputs": [
    {
     "data": {
      "text/plain": [
       "array(['wednesday', 'thursday', 'tuesday', 'friday', 'monday', 'nan'],\n",
       "      dtype=object)"
      ]
     },
     "execution_count": 92,
     "metadata": {
      "tags": []
     },
     "output_type": "execute_result"
    }
   ],
   "source": [
    "df_clean['b34'] = clean_weekdays(df_clean['b34'],['Mon','mon','Monday'], 'monday')\n",
    "df_clean['b34'] = clean_weekdays(df_clean['b34'],['Tuesday','tue','Tue'], 'tuesday')\n",
    "df_clean['b34'] = clean_weekdays(df_clean['b34'],['Wed','Wednesday','wed','Wendsday','wendsday'], 'wednesday')\n",
    "df_clean['b34'] = clean_weekdays(df_clean['b34'],['thu','Thursday','Thu','thurday'], 'thursday')\n",
    "df_clean['b34'] = clean_weekdays(df_clean['b34'],['Fri','fri','Friday'], 'friday')\n",
    "df_clean['b34'].unique()"
   ]
  },
  {
   "cell_type": "code",
   "execution_count": 0,
   "metadata": {
    "colab": {},
    "colab_type": "code",
    "id": "ZdWnrzgtDsGt"
   },
   "outputs": [],
   "source": [
    "df_A_B_learn_response = df_clean"
   ]
  },
  {
   "cell_type": "markdown",
   "metadata": {
    "colab_type": "text",
    "id": "raceeuVmQ8gH"
   },
   "source": [
    "**column: b35**"
   ]
  },
  {
   "cell_type": "code",
   "execution_count": 94,
   "metadata": {
    "colab": {
     "base_uri": "https://localhost:8080/",
     "height": 102
    },
    "colab_type": "code",
    "id": "x66zElEGRHWh",
    "outputId": "f3c92738-94d4-4854-9019-be3a07ce89b6"
   },
   "outputs": [
    {
     "data": {
      "text/plain": [
       "array(['0.01', '-0.0%', '-0.01', '0.0 %', '-0.0 %', '-0.0', '-0.01 %',\n",
       "       '0.01%', '0.01 %', '-0.01%', '-0.02', '0.02', '0.0%', '0.0',\n",
       "       '-0.02%', '0.02%', '-0.02 %', '0.03', '0.02 %', '-0.03%', '0.04',\n",
       "       '-0.03', '-0.03 %', '0.03%', '0.03 %', '-0.04', '-0.04 %', '0.04%',\n",
       "       '-0.04%', nan], dtype=object)"
      ]
     },
     "execution_count": 94,
     "metadata": {
      "tags": []
     },
     "output_type": "execute_result"
    }
   ],
   "source": [
    "df_A_B_learn_response.b35.unique()"
   ]
  },
  {
   "cell_type": "code",
   "execution_count": 95,
   "metadata": {
    "colab": {
     "base_uri": "https://localhost:8080/",
     "height": 51
    },
    "colab_type": "code",
    "id": "MzJzr4_1DuB2",
    "outputId": "67d1efdd-31aa-4355-ee75-94f493506bb8"
   },
   "outputs": [
    {
     "data": {
      "text/plain": [
       "array([ 0.01, -0.  , -0.01, -0.02,  0.02,  0.03, -0.03,  0.04, -0.04,\n",
       "         nan])"
      ]
     },
     "execution_count": 95,
     "metadata": {
      "tags": []
     },
     "output_type": "execute_result"
    }
   ],
   "source": [
    "df_A_B_learn_response['b35'] = df_A_B_learn_response['b35'].astype(str)\n",
    "\n",
    "df_A_B_learn_response['b35'] = df_A_B_learn_response['b35'].str.replace(' ', '')\n",
    "df_A_B_learn_response['b35'] = df_A_B_learn_response['b35'].str.replace('%', '')\n",
    "\n",
    "df_A_B_learn_response['b35'] = df_A_B_learn_response['b35'].astype(float)\n",
    "\n",
    "df_A_B_learn_response.b35.unique()"
   ]
  },
  {
   "cell_type": "markdown",
   "metadata": {
    "colab_type": "text",
    "id": "Ba8ikeVqRLlJ"
   },
   "source": [
    "**column: b58**"
   ]
  },
  {
   "cell_type": "code",
   "execution_count": 96,
   "metadata": {
    "colab": {
     "base_uri": "https://localhost:8080/",
     "height": 170
    },
    "colab_type": "code",
    "id": "IooH_LW0ROzI",
    "outputId": "8fce8ca8-f5a9-4710-ddf0-d420bbf5aab8"
   },
   "outputs": [
    {
     "data": {
      "text/plain": [
       "array(['June', 'Jun', 'june', 'jul', 'aug', 'May', 'Oct', 'August',\n",
       "       'sept.', 'august', 'sept', 'aug.', 'oct.', 'Aug.', 'oct', 'sep',\n",
       "       'October', 'jun', 'Nov', 'Aug', 'Jun.', 'Sept.', 'Sep', 'sep.',\n",
       "       'may', 'dec', 'April', 'september', 'Sep.', 'apr.', 'Apr', 'Oct.',\n",
       "       'april', 'March', 'apr', 'october', 'dec.', 'Mar.', 'Mar', 'Apr.',\n",
       "       'Nov.', 'November', 'nov.', 'jan', 'December', 'mar', 'Augest',\n",
       "       'nov', 'march', 'mar.', nan, 'feb', 'Marhc', 'december', 'Feb',\n",
       "       'Apirl', 'February', 'Feb.', 'jan.', 'november', 'feb.',\n",
       "       'february'], dtype=object)"
      ]
     },
     "execution_count": 96,
     "metadata": {
      "tags": []
     },
     "output_type": "execute_result"
    }
   ],
   "source": [
    "df_A_B_learn_response.b58.unique()"
   ]
  },
  {
   "cell_type": "code",
   "execution_count": 97,
   "metadata": {
    "colab": {
     "base_uri": "https://localhost:8080/",
     "height": 136
    },
    "colab_type": "code",
    "id": "YZsY6JnWDwGX",
    "outputId": "04b2aacc-9281-41ec-cb23-4025f57518f9"
   },
   "outputs": [
    {
     "data": {
      "text/plain": [
       "array(['June', 'Jun', 'june', 'jul', 'aug', 'May', 'Oct', 'August',\n",
       "       'sept', 'august', 'oct', 'Aug', 'sep', 'October', 'jun', 'Nov',\n",
       "       'Sept', 'Sep', 'may', 'dec', 'April', 'september', 'apr', 'Apr',\n",
       "       'april', 'March', 'october', 'Mar', 'November', 'nov', 'jan',\n",
       "       'December', 'mar', 'Augest', 'march', 'nan', 'feb', 'Marhc',\n",
       "       'december', 'Feb', 'Apirl', 'February', 'november', 'february'],\n",
       "      dtype=object)"
      ]
     },
     "execution_count": 97,
     "metadata": {
      "tags": []
     },
     "output_type": "execute_result"
    }
   ],
   "source": [
    "df_A_B_learn_response['b58'] = df_A_B_learn_response['b58'].astype(str)\n",
    "\n",
    "df_A_B_learn_response['b58'] = df_A_B_learn_response['b58'].str.replace(' ', '')\n",
    "df_A_B_learn_response['b58'] = df_A_B_learn_response['b58'].str.replace('.', '')\n",
    "\n",
    "df_A_B_learn_response.b58.unique()"
   ]
  },
  {
   "cell_type": "markdown",
   "metadata": {
    "colab_type": "text",
    "id": "4hp36xFdGodb"
   },
   "source": [
    "**Create a function to clean up the month data**"
   ]
  },
  {
   "cell_type": "code",
   "execution_count": 0,
   "metadata": {
    "colab": {},
    "colab_type": "code",
    "id": "BQvJfJg3GnOM"
   },
   "outputs": [],
   "source": [
    "def clean_months(df,typos,month):\n",
    "    df = df.replace(dict.fromkeys(typos, month))  \n",
    "    return(df)"
   ]
  },
  {
   "cell_type": "code",
   "execution_count": 99,
   "metadata": {
    "colab": {
     "base_uri": "https://localhost:8080/",
     "height": 68
    },
    "colab_type": "code",
    "id": "JH4aw74kD1hM",
    "outputId": "ac72d20f-afc2-4934-cd17-7dee971c4849"
   },
   "outputs": [
    {
     "data": {
      "text/plain": [
       "array(['june', 'july', 'august', 'may', 'october', 'september',\n",
       "       'november', 'december', 'april', 'march', 'january', 'nan',\n",
       "       'february'], dtype=object)"
      ]
     },
     "execution_count": 99,
     "metadata": {
      "tags": []
     },
     "output_type": "execute_result"
    }
   ],
   "source": [
    "df_clean['b58'] = clean_months(df_clean['b58'],['jan'], 'january')\n",
    "df_clean['b58'] = clean_months(df_clean['b58'],['feb','Feb','February'], 'february')\n",
    "df_clean['b58'] = clean_months(df_clean['b58'],['March','Mar','mar','Marhc'], 'march')\n",
    "df_clean['b58'] = clean_months(df_clean['b58'],['April','apr','Apr','Apirl'], 'april')\n",
    "df_clean['b58'] = clean_months(df_clean['b58'],['May'], 'may')\n",
    "df_clean['b58'] = clean_months(df_clean['b58'],['June','Jun','jun'], 'june')\n",
    "df_clean['b58'] = clean_months(df_clean['b58'],['jul'], 'july')\n",
    "df_clean['b58'] = clean_months(df_clean['b58'],['August','aug','Aug','Augest'], 'august')\n",
    "df_clean['b58'] = clean_months(df_clean['b58'],['sept','sep','Sept','Sep'], 'september')\n",
    "df_clean['b58'] = clean_months(df_clean['b58'],['Oct','oct','October'], 'october')\n",
    "df_clean['b58'] = clean_months(df_clean['b58'],['Nov','November','nov'], 'november')\n",
    "df_clean['b58'] = clean_months(df_clean['b58'],['dec','December'], 'december')\n",
    "\n",
    "df_clean['b58'].unique()"
   ]
  },
  {
   "cell_type": "code",
   "execution_count": 0,
   "metadata": {
    "colab": {},
    "colab_type": "code",
    "id": "5ic7vFtCD3wE"
   },
   "outputs": [],
   "source": [
    "df_A_B_clean = df_clean"
   ]
  },
  {
   "cell_type": "markdown",
   "metadata": {
    "colab_type": "text",
    "id": "gxLsPek7WnQk"
   },
   "source": [
    "**Fill null entries in numerical columns with their column mean**"
   ]
  },
  {
   "cell_type": "code",
   "execution_count": 0,
   "metadata": {
    "colab": {},
    "colab_type": "code",
    "id": "qJojh17QW7Zx"
   },
   "outputs": [],
   "source": [
    "numerical_columns = df_A_B_clean.select_dtypes('float64','int64').columns.tolist()"
   ]
  },
  {
   "cell_type": "code",
   "execution_count": 0,
   "metadata": {
    "colab": {},
    "colab_type": "code",
    "id": "-jj0QEcYWl51"
   },
   "outputs": [],
   "source": [
    "df_clean = df_A_B_clean.fillna(df_A_B_clean[numerical_columns].mean())"
   ]
  },
  {
   "cell_type": "markdown",
   "metadata": {
    "colab_type": "text",
    "id": "LrdkLx8xG2Ax"
   },
   "source": [
    "**Convert categorical data to numeric 'dummy' variables**"
   ]
  },
  {
   "cell_type": "markdown",
   "metadata": {},
   "source": [
    "**df_clean is dataframe with imputed null values**"
   ]
  },
  {
   "cell_type": "markdown",
   "metadata": {},
   "source": [
    "**df_A_B_clean id dataframe with null values left in**"
   ]
  },
  {
   "cell_type": "code",
   "execution_count": 103,
   "metadata": {
    "colab": {
     "base_uri": "https://localhost:8080/",
     "height": 187
    },
    "colab_type": "code",
    "id": "7z1-tmNHD9Cs",
    "outputId": "6238e2f9-ed87-4352-deb2-31b47a6dd413"
   },
   "outputs": [
    {
     "data": {
      "text/plain": [
       "Index(['id', 'a00', 'a01', 'a02', 'a03', 'a04', 'a05', 'a06', 'a07', 'a08',\n",
       "       'a09', 'a10', 'a11', 'a12', 'a13', 'a14', 'a15', 'a16', 'a17', 'code',\n",
       "       'b00', 'b01', 'b02', 'b03', 'b04', 'b05', 'b06', 'b07', 'b08', 'b09',\n",
       "       'b10', 'b11', 'b12', 'b13', 'b14', 'b15', 'b16', 'b17', 'b18', 'b19',\n",
       "       'b20', 'b22', 'b23', 'b24', 'b25', 'b26', 'b27', 'b28', 'b29', 'b30',\n",
       "       'b31', 'b32', 'b33', 'b34', 'b35', 'b36', 'b37', 'b38', 'b39', 'b40',\n",
       "       'b41', 'b42', 'b43', 'b44', 'b45', 'b46', 'b47', 'b48', 'b49', 'b50',\n",
       "       'b51', 'b52', 'b53', 'b54', 'b55', 'b56', 'b57', 'b58', 'zip', 'y',\n",
       "       'b21_Central', 'b21_East', 'b21_West'],\n",
       "      dtype='object')"
      ]
     },
     "execution_count": 103,
     "metadata": {
      "tags": []
     },
     "output_type": "execute_result"
    }
   ],
   "source": [
    "df_clean = pd.get_dummies(df_clean, columns=['b21'])\n",
    "df_clean.columns"
   ]
  },
  {
   "cell_type": "code",
   "execution_count": 104,
   "metadata": {
    "colab": {
     "base_uri": "https://localhost:8080/",
     "height": 187
    },
    "colab_type": "code",
    "id": "TMH2KZj6lZQI",
    "outputId": "419739ad-9491-4277-fc30-c1367734f1da"
   },
   "outputs": [
    {
     "data": {
      "text/plain": [
       "Index(['id', 'a00', 'a01', 'a02', 'a03', 'a04', 'a05', 'a06', 'a07', 'a08',\n",
       "       'a09', 'a10', 'a11', 'a12', 'a13', 'a14', 'a15', 'a16', 'a17', 'code',\n",
       "       'b00', 'b01', 'b02', 'b03', 'b04', 'b05', 'b06', 'b07', 'b08', 'b09',\n",
       "       'b10', 'b11', 'b12', 'b13', 'b14', 'b15', 'b16', 'b17', 'b18', 'b19',\n",
       "       'b20', 'b22', 'b23', 'b24', 'b25', 'b26', 'b27', 'b28', 'b29', 'b30',\n",
       "       'b31', 'b32', 'b33', 'b34', 'b35', 'b36', 'b37', 'b38', 'b39', 'b40',\n",
       "       'b41', 'b42', 'b43', 'b44', 'b45', 'b46', 'b47', 'b48', 'b49', 'b50',\n",
       "       'b51', 'b52', 'b53', 'b54', 'b55', 'b56', 'b57', 'b58', 'zip', 'y',\n",
       "       'b21_Central', 'b21_East', 'b21_West'],\n",
       "      dtype='object')"
      ]
     },
     "execution_count": 104,
     "metadata": {
      "tags": []
     },
     "output_type": "execute_result"
    }
   ],
   "source": [
    "df_A_B_clean = pd.get_dummies(df_A_B_clean, columns=['b21'])\n",
    "df_A_B_clean.columns"
   ]
  },
  {
   "cell_type": "code",
   "execution_count": 105,
   "metadata": {
    "colab": {
     "base_uri": "https://localhost:8080/",
     "height": 204
    },
    "colab_type": "code",
    "id": "W4X5Cb0qD-dj",
    "outputId": "31260809-0c35-44d3-e28d-9e15db2c48dd"
   },
   "outputs": [
    {
     "data": {
      "text/plain": [
       "Index(['id', 'a00', 'a01', 'a02', 'a03', 'a04', 'a05', 'a06', 'a07', 'a08',\n",
       "       'a09', 'a10', 'a11', 'a12', 'a13', 'a14', 'a15', 'a16', 'a17', 'code',\n",
       "       'b00', 'b01', 'b02', 'b03', 'b04', 'b05', 'b06', 'b07', 'b08', 'b09',\n",
       "       'b10', 'b11', 'b12', 'b13', 'b14', 'b15', 'b16', 'b17', 'b18', 'b19',\n",
       "       'b20', 'b22', 'b23', 'b24', 'b25', 'b26', 'b27', 'b28', 'b29', 'b30',\n",
       "       'b31', 'b32', 'b33', 'b35', 'b36', 'b37', 'b38', 'b39', 'b40', 'b41',\n",
       "       'b42', 'b43', 'b44', 'b45', 'b46', 'b47', 'b48', 'b49', 'b50', 'b51',\n",
       "       'b52', 'b53', 'b54', 'b55', 'b56', 'b57', 'b58', 'zip', 'y',\n",
       "       'b21_Central', 'b21_East', 'b21_West', 'b34_friday', 'b34_monday',\n",
       "       'b34_nan', 'b34_thursday', 'b34_tuesday', 'b34_wednesday'],\n",
       "      dtype='object')"
      ]
     },
     "execution_count": 105,
     "metadata": {
      "tags": []
     },
     "output_type": "execute_result"
    }
   ],
   "source": [
    "df_clean = pd.get_dummies(df_clean, columns=['b34'])\n",
    "df_clean.columns"
   ]
  },
  {
   "cell_type": "code",
   "execution_count": 106,
   "metadata": {
    "colab": {
     "base_uri": "https://localhost:8080/",
     "height": 204
    },
    "colab_type": "code",
    "id": "lUnEltdZlga_",
    "outputId": "5bc7698d-b445-4c5d-e579-61c1016cdea5"
   },
   "outputs": [
    {
     "data": {
      "text/plain": [
       "Index(['id', 'a00', 'a01', 'a02', 'a03', 'a04', 'a05', 'a06', 'a07', 'a08',\n",
       "       'a09', 'a10', 'a11', 'a12', 'a13', 'a14', 'a15', 'a16', 'a17', 'code',\n",
       "       'b00', 'b01', 'b02', 'b03', 'b04', 'b05', 'b06', 'b07', 'b08', 'b09',\n",
       "       'b10', 'b11', 'b12', 'b13', 'b14', 'b15', 'b16', 'b17', 'b18', 'b19',\n",
       "       'b20', 'b22', 'b23', 'b24', 'b25', 'b26', 'b27', 'b28', 'b29', 'b30',\n",
       "       'b31', 'b32', 'b33', 'b35', 'b36', 'b37', 'b38', 'b39', 'b40', 'b41',\n",
       "       'b42', 'b43', 'b44', 'b45', 'b46', 'b47', 'b48', 'b49', 'b50', 'b51',\n",
       "       'b52', 'b53', 'b54', 'b55', 'b56', 'b57', 'b58', 'zip', 'y',\n",
       "       'b21_Central', 'b21_East', 'b21_West', 'b34_friday', 'b34_monday',\n",
       "       'b34_nan', 'b34_thursday', 'b34_tuesday', 'b34_wednesday'],\n",
       "      dtype='object')"
      ]
     },
     "execution_count": 106,
     "metadata": {
      "tags": []
     },
     "output_type": "execute_result"
    }
   ],
   "source": [
    "df_A_B_clean = pd.get_dummies(df_A_B_clean, columns=['b34'])\n",
    "df_A_B_clean.columns"
   ]
  },
  {
   "cell_type": "code",
   "execution_count": 107,
   "metadata": {
    "colab": {
     "base_uri": "https://localhost:8080/",
     "height": 255
    },
    "colab_type": "code",
    "id": "Rz0f8IoEEAgb",
    "outputId": "af4cbee6-8114-44f0-d967-830abe67f223"
   },
   "outputs": [
    {
     "data": {
      "text/plain": [
       "Index(['id', 'a00', 'a01', 'a02', 'a03', 'a04', 'a05', 'a06', 'a07', 'a08',\n",
       "       'a09', 'a10', 'a11', 'a12', 'a13', 'a14', 'a15', 'a16', 'a17', 'code',\n",
       "       'b00', 'b01', 'b02', 'b03', 'b04', 'b05', 'b06', 'b07', 'b08', 'b09',\n",
       "       'b10', 'b11', 'b12', 'b13', 'b14', 'b15', 'b16', 'b17', 'b18', 'b19',\n",
       "       'b20', 'b22', 'b23', 'b24', 'b25', 'b26', 'b27', 'b28', 'b29', 'b30',\n",
       "       'b31', 'b32', 'b33', 'b35', 'b36', 'b37', 'b38', 'b39', 'b40', 'b41',\n",
       "       'b42', 'b43', 'b44', 'b45', 'b46', 'b47', 'b48', 'b49', 'b50', 'b51',\n",
       "       'b52', 'b53', 'b54', 'b55', 'b56', 'b57', 'zip', 'y', 'b21_Central',\n",
       "       'b21_East', 'b21_West', 'b34_friday', 'b34_monday', 'b34_nan',\n",
       "       'b34_thursday', 'b34_tuesday', 'b34_wednesday', 'b58_april',\n",
       "       'b58_august', 'b58_december', 'b58_february', 'b58_january', 'b58_july',\n",
       "       'b58_june', 'b58_march', 'b58_may', 'b58_nan', 'b58_november',\n",
       "       'b58_october', 'b58_september'],\n",
       "      dtype='object')"
      ]
     },
     "execution_count": 107,
     "metadata": {
      "tags": []
     },
     "output_type": "execute_result"
    }
   ],
   "source": [
    "df_clean = pd.get_dummies(df_clean, columns=['b58'])\n",
    "df_clean.columns"
   ]
  },
  {
   "cell_type": "code",
   "execution_count": 108,
   "metadata": {
    "colab": {
     "base_uri": "https://localhost:8080/",
     "height": 255
    },
    "colab_type": "code",
    "id": "F1uWutyFli7B",
    "outputId": "caddb993-6ca8-4464-8862-ba36bf3cca9a"
   },
   "outputs": [
    {
     "data": {
      "text/plain": [
       "Index(['id', 'a00', 'a01', 'a02', 'a03', 'a04', 'a05', 'a06', 'a07', 'a08',\n",
       "       'a09', 'a10', 'a11', 'a12', 'a13', 'a14', 'a15', 'a16', 'a17', 'code',\n",
       "       'b00', 'b01', 'b02', 'b03', 'b04', 'b05', 'b06', 'b07', 'b08', 'b09',\n",
       "       'b10', 'b11', 'b12', 'b13', 'b14', 'b15', 'b16', 'b17', 'b18', 'b19',\n",
       "       'b20', 'b22', 'b23', 'b24', 'b25', 'b26', 'b27', 'b28', 'b29', 'b30',\n",
       "       'b31', 'b32', 'b33', 'b35', 'b36', 'b37', 'b38', 'b39', 'b40', 'b41',\n",
       "       'b42', 'b43', 'b44', 'b45', 'b46', 'b47', 'b48', 'b49', 'b50', 'b51',\n",
       "       'b52', 'b53', 'b54', 'b55', 'b56', 'b57', 'zip', 'y', 'b21_Central',\n",
       "       'b21_East', 'b21_West', 'b34_friday', 'b34_monday', 'b34_nan',\n",
       "       'b34_thursday', 'b34_tuesday', 'b34_wednesday', 'b58_april',\n",
       "       'b58_august', 'b58_december', 'b58_february', 'b58_january', 'b58_july',\n",
       "       'b58_june', 'b58_march', 'b58_may', 'b58_nan', 'b58_november',\n",
       "       'b58_october', 'b58_september'],\n",
       "      dtype='object')"
      ]
     },
     "execution_count": 108,
     "metadata": {
      "tags": []
     },
     "output_type": "execute_result"
    }
   ],
   "source": [
    "df_A_B_clean = pd.get_dummies(df_A_B_clean, columns=['b58'])\n",
    "df_A_B_clean.columns"
   ]
  },
  {
   "cell_type": "markdown",
   "metadata": {
    "colab_type": "text",
    "id": "WJzBRCL2RcaK"
   },
   "source": [
    "**Testing multicollinearity**"
   ]
  },
  {
   "cell_type": "code",
   "execution_count": 109,
   "metadata": {
    "colab": {
     "base_uri": "https://localhost:8080/",
     "height": 334
    },
    "colab_type": "code",
    "id": "0D53Xkf7cc7I",
    "outputId": "5e6d140e-7473-4371-b618-2c84259e21aa",
    "scrolled": true
   },
   "outputs": [
    {
     "data": {
      "image/png": "[encoded data removed]",
      "text/plain": [
       "<Figure size 432x288 with 2 Axes>"
      ]
     },
     "metadata": {
      "tags": []
     },
     "output_type": "display_data"
    }
   ],
   "source": [
    "sns_corr_plot = sns.heatmap(df_clean.corr())\n",
    "fig = sns_corr_plot.get_figure() "
   ]
  },
  {
   "cell_type": "markdown",
   "metadata": {},
   "source": [
    "**Lets check out the pairs of features with the highest correlation magnitudes**"
   ]
  },
  {
   "cell_type": "code",
   "execution_count": 0,
   "metadata": {
    "colab": {},
    "colab_type": "code",
    "id": "a5KFs4cYReio"
   },
   "outputs": [],
   "source": [
    "def get_interaction_corr(corr, threshold):\n",
    "   col_headers = corr.index.values\n",
    "   for row in range(len(corr)):\n",
    "       for col in range(row):\n",
    "           if (corr.iloc[row, col] > threshold) or (corr.iloc[row, col] < -threshold):\n",
    "               print(\"{}, {}: corr. = {}\".format(col_headers[row], col_headers[col], corr.iloc[row, col]))"
   ]
  },
  {
   "cell_type": "code",
   "execution_count": 111,
   "metadata": {
    "colab": {
     "base_uri": "https://localhost:8080/",
     "height": 68
    },
    "colab_type": "code",
    "id": "2hZ1R5WpdCvU",
    "outputId": "c1d23bbc-5a72-4fc2-9e24-a387dd289c49",
    "scrolled": true
   },
   "outputs": [
    {
     "name": "stdout",
     "output_type": "stream",
     "text": [
      "b21_East, b21_Central: corr. = -0.5196841591192711\n",
      "b21_West, b21_Central: corr. = -0.8241192940598852\n",
      "b34_wednesday, b34_thursday: corr. = -0.9305235407914868\n"
     ]
    }
   ],
   "source": [
    "get_interaction_corr(df_clean.corr(),.5) "
   ]
  },
  {
   "cell_type": "markdown",
   "metadata": {},
   "source": [
    "**Return the correlation measures associated with each feature and the target class**"
   ]
  },
  {
   "cell_type": "code",
   "execution_count": 112,
   "metadata": {
    "colab": {
     "base_uri": "https://localhost:8080/",
     "height": 136
    },
    "colab_type": "code",
    "id": "IOvM_gecdHmE",
    "outputId": "f0292f97-a389-4daa-b1bb-e398a45ddc35"
   },
   "outputs": [
    {
     "data": {
      "text/plain": [
       "b21_East        -0.008582\n",
       "b21_Central     -0.009711\n",
       "b21_West         0.017253\n",
       "b34_wednesday    0.039089\n",
       "b34_thursday    -0.046735\n",
       "y                1.000000\n",
       "Name: y, dtype: float64"
      ]
     },
     "execution_count": 112,
     "metadata": {
      "tags": []
     },
     "output_type": "execute_result"
    }
   ],
   "source": [
    "df_clean[['b21_East', 'b21_Central', 'b21_West', 'b34_wednesday', 'b34_thursday', 'y']].corr()['y'][:]"
   ]
  },
  {
   "cell_type": "markdown",
   "metadata": {
    "colab_type": "text",
    "id": "j3aAttjDe0oM"
   },
   "source": [
    "**We see that of the highly correlated b21_West and b34_thursday are most correlated with the target class. These are the variables we will choose to keep**"
   ]
  },
  {
   "cell_type": "code",
   "execution_count": 0,
   "metadata": {
    "colab": {},
    "colab_type": "code",
    "id": "9FehbXxYffFl"
   },
   "outputs": [],
   "source": [
    "df_clean = df_clean.drop(['b34_wednesday', 'b21_Central'], axis=1)"
   ]
  },
  {
   "cell_type": "code",
   "execution_count": 0,
   "metadata": {
    "colab": {},
    "colab_type": "code",
    "id": "Qye2Ia7nlnzy"
   },
   "outputs": [],
   "source": [
    "df_A_B_clean = df_A_B_clean.drop(['b34_wednesday', 'b21_Central'], axis=1)"
   ]
  },
  {
   "cell_type": "markdown",
   "metadata": {
    "colab_type": "text",
    "id": "NhPm7k-3g0hW"
   },
   "source": [
    "**Data Modeling**"
   ]
  },
  {
   "cell_type": "markdown",
   "metadata": {
    "colab_type": "text",
    "id": "ruifq9MJnze4"
   },
   "source": [
    "**Creating training/testing split with mean-imputed data**"
   ]
  },
  {
   "cell_type": "code",
   "execution_count": 0,
   "metadata": {
    "colab": {},
    "colab_type": "code",
    "id": "Nk6Ll6qagypc"
   },
   "outputs": [],
   "source": [
    "y = df_clean['y']\n",
    "X = df_clean.drop(['id','y'],axis=1)\n",
    "\n",
    "X_train, X_test, y_train, y_test = train_test_split(X, y, test_size = 0.2, random_state = 465) "
   ]
  },
  {
   "cell_type": "markdown",
   "metadata": {
    "colab_type": "text",
    "id": "KPOked_ZoB9W"
   },
   "source": [
    "**Creating training/testing split with data that contains null instances**"
   ]
  },
  {
   "cell_type": "code",
   "execution_count": 0,
   "metadata": {
    "colab": {},
    "colab_type": "code",
    "id": "ZkwliZ-Zluaf"
   },
   "outputs": [],
   "source": [
    "y_null = df_A_B_clean['y']\n",
    "X_null = df_A_B_clean.drop(['id','y'],axis=1)\n",
    "\n",
    "X_train_null, X_test_null, y_train_null, y_test_null = train_test_split(X_null, y_null, test_size = 0.2, random_state = 465) "
   ]
  },
  {
   "cell_type": "code",
   "execution_count": 0,
   "metadata": {
    "colab": {
     "base_uri": "https://localhost:8080/",
     "height": 68
    },
    "colab_type": "code",
    "id": "baOszllALGpI",
    "outputId": "3159bfcd-30fd-4b47-96fc-83603a2d817f"
   },
   "outputs": [
    {
     "data": {
      "text/plain": [
       "0    8645\n",
       "1    1013\n",
       "Name: y, dtype: int64"
      ]
     },
     "execution_count": 53,
     "metadata": {
      "tags": []
     },
     "output_type": "execute_result"
    }
   ],
   "source": [
    "y_train.value_counts()"
   ]
  },
  {
   "cell_type": "code",
   "execution_count": 0,
   "metadata": {
    "colab": {
     "base_uri": "https://localhost:8080/",
     "height": 68
    },
    "colab_type": "code",
    "id": "a-lAG25_LOJa",
    "outputId": "90be4ca9-e6dd-48df-ee3a-6c7b446ce201"
   },
   "outputs": [
    {
     "data": {
      "text/plain": [
       "0    2161\n",
       "1     254\n",
       "Name: y, dtype: int64"
      ]
     },
     "execution_count": 54,
     "metadata": {
      "tags": []
     },
     "output_type": "execute_result"
    }
   ],
   "source": [
    "y_test.value_counts()"
   ]
  },
  {
   "cell_type": "markdown",
   "metadata": {
    "colab_type": "text",
    "id": "GkiJvTc9vBt_"
   },
   "source": [
    "**Logistic Regression Model**"
   ]
  },
  {
   "cell_type": "code",
   "execution_count": 0,
   "metadata": {
    "colab": {},
    "colab_type": "code",
    "id": "TaU1NQtEEati"
   },
   "outputs": [],
   "source": [
    "log_reg_params = {\n",
    "    'penalty': ['l1', 'l2', 'elasticnet'],\n",
    "    'C': [.001, .01, .1, 1.0],\n",
    "    'class_weight': ['balanced'],\n",
    "    'solver': ['newton-cg', 'lbfgs', 'liblinear', 'sag', 'saga']  \n",
    "}"
   ]
  },
  {
   "cell_type": "code",
   "execution_count": 0,
   "metadata": {
    "colab": {
     "base_uri": "https://localhost:8080/",
     "height": 153
    },
    "colab_type": "code",
    "id": "xR1DdwnLhmPP",
    "outputId": "aec162a3-d593-46f0-cfc0-bde356b88584"
   },
   "outputs": [
    {
     "name": "stdout",
     "output_type": "stream",
     "text": [
      "Fitting 15 folds for each of 60 candidates, totalling 900 fits\n"
     ]
    },
    {
     "name": "stderr",
     "output_type": "stream",
     "text": [
      "[Parallel(n_jobs=5)]: Using backend LokyBackend with 5 concurrent workers.\n",
      "[Parallel(n_jobs=5)]: Done   8 tasks      | elapsed:    2.8s\n",
      "[Parallel(n_jobs=5)]: Done  62 tasks      | elapsed:  2.7min\n",
      "[Parallel(n_jobs=5)]: Done 152 tasks      | elapsed:  4.2min\n",
      "[Parallel(n_jobs=5)]: Done 357 tasks      | elapsed: 10.9min\n",
      "[Parallel(n_jobs=5)]: Done 587 tasks      | elapsed: 20.5min\n",
      "[Parallel(n_jobs=5)]: Done 900 out of 900 | elapsed: 30.2min finished\n"
     ]
    }
   ],
   "source": [
    "cv = RepeatedStratifiedKFold(n_splits=5, n_repeats =3, random_state=1)\n",
    "\n",
    "grid_log_reg = GridSearchCV(estimator=LogisticRegression(), param_grid=log_reg_params, verbose=5, cv=cv, n_jobs=5, scoring='roc_auc')\n",
    "\n",
    "log_reg_result = grid_log_reg.fit(X_train, y_train)"
   ]
  },
  {
   "cell_type": "code",
   "execution_count": 0,
   "metadata": {
    "colab": {
     "base_uri": "https://localhost:8080/",
     "height": 34
    },
    "colab_type": "code",
    "id": "yJVMydI8kx_R",
    "outputId": "9bb56ce3-6c50-4834-ccda-b42e6026672a"
   },
   "outputs": [
    {
     "name": "stdout",
     "output_type": "stream",
     "text": [
      "Best AUC: 0.869216 using {'C': 1.0, 'class_weight': 'balanced', 'penalty': 'l2', 'solver': 'newton-cg'}\n"
     ]
    }
   ],
   "source": [
    "print(\"Best AUC: %f using %s\" % (log_reg_result.best_score_, log_reg_result.best_params_))"
   ]
  },
  {
   "cell_type": "code",
   "execution_count": 0,
   "metadata": {
    "colab": {},
    "colab_type": "code",
    "id": "CtgCboDIq9tq"
   },
   "outputs": [],
   "source": [
    "lr = LogisticRegression(C=1.0, class_weight='balanced', penalty='l2', solver='newton-cg')\n",
    "\n",
    "lr.fit(X_train, y_train)\n",
    "\n",
    "y_train_pred_logreg = lr.predict(X_train)"
   ]
  },
  {
   "cell_type": "code",
   "execution_count": 0,
   "metadata": {
    "colab": {
     "base_uri": "https://localhost:8080/",
     "height": 170
    },
    "colab_type": "code",
    "id": "ZFb-qCILq910",
    "outputId": "5b655fc6-7d12-4ba2-96b9-f6c9dbd9e84c",
    "scrolled": true
   },
   "outputs": [
    {
     "name": "stdout",
     "output_type": "stream",
     "text": [
      "              precision    recall  f1-score   support\n",
      "\n",
      "           0       0.97      0.80      0.88      8645\n",
      "           1       0.32      0.80      0.45      1013\n",
      "\n",
      "    accuracy                           0.80      9658\n",
      "   macro avg       0.64      0.80      0.67      9658\n",
      "weighted avg       0.90      0.80      0.83      9658\n",
      "\n"
     ]
    }
   ],
   "source": [
    "print(classification_report(y_train, y_train_pred_logreg))"
   ]
  },
  {
   "cell_type": "markdown",
   "metadata": {},
   "source": [
    "**Visualization for the confusion matrix**"
   ]
  },
  {
   "cell_type": "code",
   "execution_count": 0,
   "metadata": {
    "colab": {},
    "colab_type": "code",
    "id": "8NOiYRSzq99v"
   },
   "outputs": [],
   "source": [
    "import itertools\n",
    "\n",
    "def plot_confusion_matrix(cm, classes,\n",
    "                          normalize=False,\n",
    "                          title='Confusion matrix',\n",
    "                          cmap=plt.cm.Blues):\n",
    "    \"\"\"\n",
    "    This function prints and plots the confusion matrix.\n",
    "    Normalization can be applied by setting `normalize=True`.\n",
    "    \"\"\"\n",
    "    plt.imshow(cm, interpolation='nearest', cmap=cmap)\n",
    "    plt.title(title)\n",
    "    plt.colorbar()\n",
    "    tick_marks = np.arange(len(classes))\n",
    "    plt.xticks(tick_marks, classes, rotation=0)\n",
    "    plt.yticks(tick_marks, classes)\n",
    "\n",
    "    if normalize:\n",
    "        cm = cm.astype('float') / cm.sum(axis=1)[:, np.newaxis]\n",
    "        #print(\"Normalized confusion matrix\")\n",
    "    else:\n",
    "        1#print('Confusion matrix, without normalization')\n",
    "\n",
    "    #print(cm)\n",
    "\n",
    "    thresh = cm.max() / 2.\n",
    "    for i, j in itertools.product(range(cm.shape[0]), range(cm.shape[1])):\n",
    "        plt.text(j, i, cm[i, j],\n",
    "                 horizontalalignment=\"center\",\n",
    "                 color=\"white\" if cm[i, j] > thresh else \"black\")\n",
    "\n",
    "    plt.tight_layout()\n",
    "    plt.ylabel('True label')\n",
    "    plt.xlabel('Predicted label')"
   ]
  },
  {
   "cell_type": "code",
   "execution_count": 0,
   "metadata": {
    "colab": {
     "base_uri": "https://localhost:8080/",
     "height": 345
    },
    "colab_type": "code",
    "id": "lSfs-aZLrRll",
    "outputId": "1efbc67b-715a-4ded-f2aa-34cd96d204cf"
   },
   "outputs": [
    {
     "name": "stdout",
     "output_type": "stream",
     "text": [
      "Recall metric on the train dataset: 79.86179664363277%\n",
      "\n"
     ]
    },
    {
     "data": {
      "image/png": "[encoded data removed]",
      "text/plain": [
       "<Figure size 432x288 with 2 Axes>"
      ]
     },
     "metadata": {
      "tags": []
     },
     "output_type": "display_data"
    }
   ],
   "source": [
    "cnf_matrix_tra = confusion_matrix(y_train, y_train_pred_logreg)\n",
    "\n",
    "print(\"Recall metric on the train dataset: {}%\\n\".format(100*cnf_matrix_tra[1,1]/(cnf_matrix_tra[1,0]+cnf_matrix_tra[1,1])))\n",
    "\n",
    "\n",
    "class_names = [0,1]\n",
    "plt.figure()\n",
    "plot_confusion_matrix(cnf_matrix_tra , classes=class_names, title='Confusion matrix')\n",
    "plt.show()"
   ]
  },
  {
   "cell_type": "code",
   "execution_count": 0,
   "metadata": {
    "colab": {},
    "colab_type": "code",
    "id": "B-fNWc8Yutzh"
   },
   "outputs": [],
   "source": [
    "lr.fit(X_test, y_test)\n",
    "\n",
    "y_test_pred_logreg = lr.predict(X_test)"
   ]
  },
  {
   "cell_type": "code",
   "execution_count": 0,
   "metadata": {
    "colab": {
     "base_uri": "https://localhost:8080/",
     "height": 170
    },
    "colab_type": "code",
    "id": "pif_i9_RuzzO",
    "outputId": "d4e0c06d-45e5-4fe3-b99e-30e92ef8042c"
   },
   "outputs": [
    {
     "name": "stdout",
     "output_type": "stream",
     "text": [
      "              precision    recall  f1-score   support\n",
      "\n",
      "           0       0.98      0.83      0.90      2161\n",
      "           1       0.36      0.84      0.51       254\n",
      "\n",
      "    accuracy                           0.83      2415\n",
      "   macro avg       0.67      0.83      0.70      2415\n",
      "weighted avg       0.91      0.83      0.85      2415\n",
      "\n"
     ]
    }
   ],
   "source": [
    "print(classification_report(y_test, y_test_pred_logreg))"
   ]
  },
  {
   "cell_type": "code",
   "execution_count": 0,
   "metadata": {
    "colab": {
     "base_uri": "https://localhost:8080/",
     "height": 345
    },
    "colab_type": "code",
    "id": "Q1ISt9TCuizo",
    "outputId": "81e04f01-3664-4284-b3d0-aaa90f931283",
    "scrolled": true
   },
   "outputs": [
    {
     "name": "stdout",
     "output_type": "stream",
     "text": [
      "Recall metric on the train dataset: 83.85826771653544%\n",
      "\n"
     ]
    },
    {
     "data": {
      "image/png": "[encoded data removed]",
      "text/plain": [
       "<Figure size 432x288 with 2 Axes>"
      ]
     },
     "metadata": {
      "tags": []
     },
     "output_type": "display_data"
    }
   ],
   "source": [
    "cnf_matrix_tra = confusion_matrix(y_test, y_test_pred_logreg)\n",
    "\n",
    "print(\"Recall metric on the train dataset: {}%\\n\".format(100*cnf_matrix_tra[1,1]/(cnf_matrix_tra[1,0]+cnf_matrix_tra[1,1])))\n",
    "\n",
    "\n",
    "class_names = [0,1]\n",
    "plt.figure()\n",
    "plot_confusion_matrix(cnf_matrix_tra , classes=class_names, title='Confusion matrix')\n",
    "plt.show()"
   ]
  },
  {
   "cell_type": "markdown",
   "metadata": {},
   "source": [
    "**Visualize the ROC curve and AUC score**"
   ]
  },
  {
   "cell_type": "code",
   "execution_count": 0,
   "metadata": {
    "colab": {
     "base_uri": "https://localhost:8080/",
     "height": 296
    },
    "colab_type": "code",
    "id": "zTGwHe4aspk3",
    "outputId": "85cf8053-f348-4717-accd-750b85115afa"
   },
   "outputs": [
    {
     "name": "stdout",
     "output_type": "stream",
     "text": [
      "Logistic: ROC AUC=0.911\n"
     ]
    },
    {
     "data": {
      "image/png": "[encoded data removed]",
      "text/plain": [
       "<Figure size 432x288 with 1 Axes>"
      ]
     },
     "metadata": {
      "tags": []
     },
     "output_type": "display_data"
    }
   ],
   "source": [
    "ns_probs = [0 for _ in range(len(y_test))]\n",
    "lr_probs = lr.predict_proba(X_test)\n",
    "# keep probabilities for the positive outcome only\n",
    "lr_probs = lr_probs[:, 1]\n",
    "# calculate scores\n",
    "ns_auc = roc_auc_score(y_test, ns_probs)\n",
    "lr_auc = roc_auc_score(y_test, lr_probs)\n",
    "# summarize scores\n",
    "print('Logistic: ROC AUC=%.3f' % (lr_auc))\n",
    "# calculate roc curves\n",
    "ns_fpr, ns_tpr, _ = roc_curve(y_test, ns_probs)\n",
    "lr_fpr, lr_tpr, _ = roc_curve(y_test, lr_probs)\n",
    "# plot the roc curve for the model\n",
    "plt.plot(ns_fpr, ns_tpr, linestyle='--')\n",
    "plt.plot(lr_fpr, lr_tpr, marker='.', label='Logistic')\n",
    "# axis labels\n",
    "plt.xlabel('False Positive Rate')\n",
    "plt.ylabel('True Positive Rate')\n",
    "# show the legend\n",
    "plt.legend()\n",
    "# show the plot\n",
    "plt.show()"
   ]
  },
  {
   "cell_type": "markdown",
   "metadata": {
    "colab_type": "text",
    "id": "sxvLZGTnHQQl"
   },
   "source": [
    "**XGB Model**"
   ]
  },
  {
   "cell_type": "code",
   "execution_count": 0,
   "metadata": {
    "colab": {
     "base_uri": "https://localhost:8080/",
     "height": 34
    },
    "colab_type": "code",
    "id": "qh_8SshNwI5S",
    "outputId": "8a5bb504-e0ce-4b4a-c978-182c58a1db2f"
   },
   "outputs": [
    {
     "name": "stdout",
     "output_type": "stream",
     "text": [
      "Estimate: 8.534\n"
     ]
    }
   ],
   "source": [
    "import collections\n",
    "\n",
    "# count examples in each class\n",
    "counter = collections.Counter(y_train)\n",
    "# estimate scale_pos_weight value\n",
    "estimate = counter[0] / counter[1]\n",
    "print('Estimate: %.3f' % estimate)"
   ]
  },
  {
   "cell_type": "code",
   "execution_count": 0,
   "metadata": {
    "colab": {},
    "colab_type": "code",
    "id": "76125UhSzCB0"
   },
   "outputs": [],
   "source": [
    "xgbc_params = {\n",
    "    'scale_pos_weight': [4, 8.534, 10],\n",
    "    'booster': ['gbtree','dart'],\n",
    "    'max_depth': [4, 6, 12],\n",
    "    'lambda': [.01, .1, 1],\n",
    "    'alpha': [0, .001, .01]\n",
    "}"
   ]
  },
  {
   "cell_type": "code",
   "execution_count": 0,
   "metadata": {
    "colab": {
     "base_uri": "https://localhost:8080/",
     "height": 255
    },
    "colab_type": "code",
    "id": "sfIYl2Ofvq-X",
    "outputId": "dce23cac-f163-42d3-a1cd-32ce6e2aec46"
   },
   "outputs": [
    {
     "name": "stdout",
     "output_type": "stream",
     "text": [
      "Fitting 15 folds for each of 162 candidates, totalling 2430 fits\n"
     ]
    },
    {
     "name": "stderr",
     "output_type": "stream",
     "text": [
      "[Parallel(n_jobs=5)]: Using backend LokyBackend with 5 concurrent workers.\n",
      "[Parallel(n_jobs=5)]: Done   8 tasks      | elapsed:   39.7s\n",
      "[Parallel(n_jobs=5)]: Done  62 tasks      | elapsed:  4.6min\n",
      "[Parallel(n_jobs=5)]: Done 152 tasks      | elapsed: 15.4min\n",
      "[Parallel(n_jobs=5)]: Done 278 tasks      | elapsed: 29.2min\n",
      "[Parallel(n_jobs=5)]: Done 440 tasks      | elapsed: 45.6min\n",
      "[Parallel(n_jobs=5)]: Done 638 tasks      | elapsed: 71.3min\n",
      "[Parallel(n_jobs=5)]: Done 872 tasks      | elapsed: 100.3min\n",
      "[Parallel(n_jobs=5)]: Done 1142 tasks      | elapsed: 127.8min\n",
      "[Parallel(n_jobs=5)]: Done 1448 tasks      | elapsed: 166.4min\n",
      "[Parallel(n_jobs=5)]: Done 1790 tasks      | elapsed: 208.3min\n",
      "[Parallel(n_jobs=5)]: Done 2168 tasks      | elapsed: 253.0min\n",
      "[Parallel(n_jobs=5)]: Done 2430 out of 2430 | elapsed: 288.3min finished\n"
     ]
    }
   ],
   "source": [
    "cv = RepeatedStratifiedKFold(n_splits=5, n_repeats=3, random_state=1)\n",
    "\n",
    "grid_xgbc = GridSearchCV(estimator=XGBClassifier(), param_grid=xgbc_params, n_jobs=5, verbose=5, cv=cv, scoring='roc_auc')\n",
    "\n",
    "xgbc_result = grid_xgbc.fit(X_train, y_train)"
   ]
  },
  {
   "cell_type": "code",
   "execution_count": 0,
   "metadata": {
    "colab": {
     "base_uri": "https://localhost:8080/",
     "height": 34
    },
    "colab_type": "code",
    "id": "j0KV4XAtvrHz",
    "outputId": "fa376d56-4f87-425b-a50b-b28d6992e651"
   },
   "outputs": [
    {
     "name": "stdout",
     "output_type": "stream",
     "text": [
      "Best: 0.952664 using {'alpha': 0, 'booster': 'gbtree', 'lambda': 0.01, 'max_depth': 12, 'scale_pos_weight': 10}\n"
     ]
    }
   ],
   "source": [
    "print(\"Best: %f using %s\" % (xgbc_result.best_score_, xgbc_result.best_params_))"
   ]
  },
  {
   "cell_type": "code",
   "execution_count": 0,
   "metadata": {
    "colab": {},
    "colab_type": "code",
    "id": "4WCYHDgXvrP8"
   },
   "outputs": [],
   "source": [
    "xgbc = XGBClassifier(alpha=0, booster='gbtree', reg_lambda=1, max_depth=12, scale_pos_weight=10)\n",
    "\n",
    "xgbc.fit(X_train, y_train)\n",
    "\n",
    "y_train_pred_xgbc = xgbc.predict(X_train)"
   ]
  },
  {
   "cell_type": "code",
   "execution_count": 0,
   "metadata": {
    "colab": {
     "base_uri": "https://localhost:8080/",
     "height": 170
    },
    "colab_type": "code",
    "id": "Sm7VACofvrNA",
    "outputId": "a4c34b20-d14b-43ed-c0d2-978130df90fb"
   },
   "outputs": [
    {
     "name": "stdout",
     "output_type": "stream",
     "text": [
      "              precision    recall  f1-score   support\n",
      "\n",
      "           0       1.00      1.00      1.00      8645\n",
      "           1       1.00      1.00      1.00      1013\n",
      "\n",
      "    accuracy                           1.00      9658\n",
      "   macro avg       1.00      1.00      1.00      9658\n",
      "weighted avg       1.00      1.00      1.00      9658\n",
      "\n"
     ]
    }
   ],
   "source": [
    "print(classification_report(y_train, y_train_pred_xgbc))"
   ]
  },
  {
   "cell_type": "markdown",
   "metadata": {
    "colab_type": "text",
    "id": "wSxxbki2nVmv"
   },
   "source": [
    "**Modeling training partition containing null data**"
   ]
  },
  {
   "cell_type": "code",
   "execution_count": 0,
   "metadata": {
    "colab": {},
    "colab_type": "code",
    "id": "Lsb7yVr5mDnn"
   },
   "outputs": [],
   "source": [
    "xgbc_null = XGBClassifier(alpha=0, booster='gbtree', reg_lambda=1, max_depth=12, scale_pos_weight=10)\n",
    "\n",
    "xgbc_null.fit(X_train_null, y_train_null)\n",
    "\n",
    "y_train_pred_xgbc_null = xgbc_null.predict(X_train_null)"
   ]
  },
  {
   "cell_type": "code",
   "execution_count": 0,
   "metadata": {
    "colab": {
     "base_uri": "https://localhost:8080/",
     "height": 170
    },
    "colab_type": "code",
    "id": "nyqQdUZvmlN4",
    "outputId": "f7c4261f-e8c2-4888-dcce-84e53a4be98c"
   },
   "outputs": [
    {
     "name": "stdout",
     "output_type": "stream",
     "text": [
      "              precision    recall  f1-score   support\n",
      "\n",
      "           0       1.00      1.00      1.00      8645\n",
      "           1       1.00      1.00      1.00      1013\n",
      "\n",
      "    accuracy                           1.00      9658\n",
      "   macro avg       1.00      1.00      1.00      9658\n",
      "weighted avg       1.00      1.00      1.00      9658\n",
      "\n"
     ]
    }
   ],
   "source": [
    "print(classification_report(y_train_null, y_train_pred_xgbc_null))"
   ]
  },
  {
   "cell_type": "code",
   "execution_count": 0,
   "metadata": {
    "colab": {
     "base_uri": "https://localhost:8080/",
     "height": 345
    },
    "colab_type": "code",
    "id": "iixcSCp7vrDw",
    "outputId": "f9a71c9f-e70d-4f1c-863e-75b04a33d381"
   },
   "outputs": [
    {
     "name": "stdout",
     "output_type": "stream",
     "text": [
      "Recall metric on the training dataset: 100.0%\n",
      "\n"
     ]
    },
    {
     "data": {
      "image/png": "[encoded data removed]",
      "text/plain": [
       "<Figure size 432x288 with 2 Axes>"
      ]
     },
     "metadata": {
      "tags": []
     },
     "output_type": "display_data"
    }
   ],
   "source": [
    "cnf_matrix_tra = confusion_matrix(y_train, y_train_pred_xgbc)\n",
    "\n",
    "print(\"Recall metric on the training dataset: {}%\\n\".format(100*cnf_matrix_tra[1,1]/(cnf_matrix_tra[1,0]+cnf_matrix_tra[1,1])))\n",
    "\n",
    "\n",
    "class_names = [0,1]\n",
    "plt.figure()\n",
    "plot_confusion_matrix(cnf_matrix_tra , classes=class_names, title='Confusion matrix')\n",
    "plt.show()"
   ]
  },
  {
   "cell_type": "code",
   "execution_count": 0,
   "metadata": {
    "colab": {},
    "colab_type": "code",
    "id": "Oihg2Avcvq3x"
   },
   "outputs": [],
   "source": [
    "xgbc.fit(X_test, y_test)\n",
    "\n",
    "y_test_pred_xgbc = xgbc.predict(X_test)"
   ]
  },
  {
   "cell_type": "code",
   "execution_count": 0,
   "metadata": {
    "colab": {
     "base_uri": "https://localhost:8080/",
     "height": 170
    },
    "colab_type": "code",
    "id": "CAbCsJ2pJjGg",
    "outputId": "b31d109f-c581-44d1-80ec-9f821b0586bc"
   },
   "outputs": [
    {
     "name": "stdout",
     "output_type": "stream",
     "text": [
      "              precision    recall  f1-score   support\n",
      "\n",
      "           0       1.00      1.00      1.00      2161\n",
      "           1       1.00      1.00      1.00       254\n",
      "\n",
      "    accuracy                           1.00      2415\n",
      "   macro avg       1.00      1.00      1.00      2415\n",
      "weighted avg       1.00      1.00      1.00      2415\n",
      "\n"
     ]
    }
   ],
   "source": [
    "print(classification_report(y_test, y_test_pred_xgbc))"
   ]
  },
  {
   "cell_type": "markdown",
   "metadata": {
    "colab_type": "text",
    "id": "egru8vX_nN7a"
   },
   "source": [
    "**Modeling testing partition containing null data**"
   ]
  },
  {
   "cell_type": "code",
   "execution_count": 0,
   "metadata": {
    "colab": {},
    "colab_type": "code",
    "id": "5HVHuUwEm6JK"
   },
   "outputs": [],
   "source": [
    "xgbc_null.fit(X_test_null, y_test_null)\n",
    "\n",
    "y_test_pred_xgbc_null = xgbc_null.predict(X_test_null)"
   ]
  },
  {
   "cell_type": "code",
   "execution_count": 0,
   "metadata": {
    "colab": {
     "base_uri": "https://localhost:8080/",
     "height": 170
    },
    "colab_type": "code",
    "id": "V3E1OyN_m6Ww",
    "outputId": "95184328-d33a-4b88-9fa8-9b4af4124a43"
   },
   "outputs": [
    {
     "name": "stdout",
     "output_type": "stream",
     "text": [
      "              precision    recall  f1-score   support\n",
      "\n",
      "           0       1.00      1.00      1.00      2161\n",
      "           1       1.00      1.00      1.00       254\n",
      "\n",
      "    accuracy                           1.00      2415\n",
      "   macro avg       1.00      1.00      1.00      2415\n",
      "weighted avg       1.00      1.00      1.00      2415\n",
      "\n"
     ]
    }
   ],
   "source": [
    "print(classification_report(y_test_null, y_test_pred_xgbc_null))"
   ]
  },
  {
   "cell_type": "code",
   "execution_count": 0,
   "metadata": {
    "colab": {
     "base_uri": "https://localhost:8080/",
     "height": 345
    },
    "colab_type": "code",
    "id": "JbF_I6R5BomH",
    "outputId": "0eb2f781-1e27-4859-93d6-7b29cf1e50de"
   },
   "outputs": [
    {
     "name": "stdout",
     "output_type": "stream",
     "text": [
      "Recall metric on the testing dataset: 100.0%\n",
      "\n"
     ]
    },
    {
     "data": {
      "image/png": "[encoded data removed]",
      "text/plain": [
       "<Figure size 432x288 with 2 Axes>"
      ]
     },
     "metadata": {
      "tags": []
     },
     "output_type": "display_data"
    }
   ],
   "source": [
    "cnf_matrix_tra = confusion_matrix(y_test, y_test_pred_xgbc)\n",
    "\n",
    "print(\"Recall metric on the testing dataset: {}%\\n\".format(100*cnf_matrix_tra[1,1]/(cnf_matrix_tra[1,0]+cnf_matrix_tra[1,1])))\n",
    "\n",
    "\n",
    "class_names = [0,1]\n",
    "plt.figure()\n",
    "plot_confusion_matrix(cnf_matrix_tra , classes=class_names, title='Confusion matrix')\n",
    "plt.show()"
   ]
  },
  {
   "cell_type": "code",
   "execution_count": 0,
   "metadata": {
    "colab": {
     "base_uri": "https://localhost:8080/",
     "height": 296
    },
    "colab_type": "code",
    "id": "O2atxoRx9ZUh",
    "outputId": "d692f1d5-368c-48ea-f7fb-2acf794a04a5"
   },
   "outputs": [
    {
     "name": "stdout",
     "output_type": "stream",
     "text": [
      "XGBC: ROC AUC=1.000\n"
     ]
    },
    {
     "data": {
      "image/png": "[encoded data removed]",
      "text/plain": [
       "<Figure size 432x288 with 1 Axes>"
      ]
     },
     "metadata": {
      "tags": []
     },
     "output_type": "display_data"
    }
   ],
   "source": [
    "ns_probs = [0 for _ in range(len(y_test))]\n",
    "xgbc_probs = xgbc.predict_proba(X_test)\n",
    "# keep probabilities for the positive outcome only\n",
    "xgbc_probs = xgbc_probs[:, 1]\n",
    "# calculate scores\n",
    "ns_auc = roc_auc_score(y_test, ns_probs)\n",
    "xgbc_auc = roc_auc_score(y_test, xgbc_probs)\n",
    "# summarize scores\n",
    "print('XGBC: ROC AUC=%.3f' % (xgbc_auc))\n",
    "# calculate roc curves\n",
    "ns_fpr, ns_tpr, _ = roc_curve(y_test, ns_probs)\n",
    "xgbc_fpr, xgbc_tpr, _ = roc_curve(y_test, xgbc_probs)\n",
    "# plot the roc curve for the model\n",
    "plt.plot(ns_fpr, ns_tpr, linestyle='--')\n",
    "plt.plot(xgbc_fpr, xgbc_tpr, marker='.', label='Logistic')\n",
    "# axis labels\n",
    "plt.xlabel('False Positive Rate')\n",
    "plt.ylabel('True Positive Rate')\n",
    "# show the legend\n",
    "plt.legend()\n",
    "# show the plot\n",
    "plt.show()"
   ]
  },
  {
   "cell_type": "markdown",
   "metadata": {
    "colab_type": "text",
    "id": "lr5ubc45YzUh"
   },
   "source": [
    "**Preparing the prediction data is same steps as learning data**"
   ]
  },
  {
   "cell_type": "code",
   "execution_count": 0,
   "metadata": {
    "colab": {
     "base_uri": "https://localhost:8080/",
     "height": 34
    },
    "colab_type": "code",
    "id": "o05GuHL0Y3Kp",
    "outputId": "c17a1bb9-52ac-4e3e-855f-390288dfe9c7"
   },
   "outputs": [
    {
     "data": {
      "text/plain": [
       "(5366, 80)"
      ]
     },
     "execution_count": 41,
     "metadata": {
      "tags": []
     },
     "output_type": "execute_result"
    }
   ],
   "source": [
    "df_A_B_prediction.shape"
   ]
  },
  {
   "cell_type": "code",
   "execution_count": 0,
   "metadata": {
    "colab": {
     "base_uri": "https://localhost:8080/",
     "height": 630
    },
    "colab_type": "code",
    "id": "VkKP23H3Y861",
    "outputId": "0c51cb22-a2e5-44ae-abfb-ac310d666038"
   },
   "outputs": [
    {
     "data": {
      "text/plain": [
       "<matplotlib.axes._subplots.AxesSubplot at 0x7fb658645e48>"
      ]
     },
     "execution_count": 86,
     "metadata": {
      "tags": []
     },
     "output_type": "execute_result"
    },
    {
     "data": {
      "image/png": "[encoded data removed]",
      "text/plain": [
       "<Figure size 1800x720 with 2 Axes>"
      ]
     },
     "metadata": {
      "tags": []
     },
     "output_type": "display_data"
    }
   ],
   "source": [
    "msno.matrix(df_A_B_prediction) "
   ]
  },
  {
   "cell_type": "code",
   "execution_count": 121,
   "metadata": {
    "colab": {
     "base_uri": "https://localhost:8080/",
     "height": 34
    },
    "colab_type": "code",
    "id": "d2RuKC0aY-kb",
    "outputId": "5638c9c8-7b64-4a6e-dde0-c4f3352002e8"
   },
   "outputs": [
    {
     "data": {
      "text/plain": [
       "array([dtype('O'), dtype('float64'), dtype('int64')], dtype=object)"
      ]
     },
     "execution_count": 121,
     "metadata": {
      "tags": []
     },
     "output_type": "execute_result"
    }
   ],
   "source": [
    "df_A_B_prediction.dtypes.unique()"
   ]
  },
  {
   "cell_type": "code",
   "execution_count": 122,
   "metadata": {
    "colab": {
     "base_uri": "https://localhost:8080/",
     "height": 204
    },
    "colab_type": "code",
    "id": "RJ8sRCpZZMxK",
    "outputId": "d50dbf19-5345-4340-a5b0-073c43e9a395"
   },
   "outputs": [
    {
     "data": {
      "text/html": [
       "<div>\n",
       "<style scoped>\n",
       "    .dataframe tbody tr th:only-of-type {\n",
       "        vertical-align: middle;\n",
       "    }\n",
       "\n",
       "    .dataframe tbody tr th {\n",
       "        vertical-align: top;\n",
       "    }\n",
       "\n",
       "    .dataframe thead th {\n",
       "        text-align: right;\n",
       "    }\n",
       "</style>\n",
       "<table border=\"1\" class=\"dataframe\">\n",
       "  <thead>\n",
       "    <tr style=\"text-align: right;\">\n",
       "      <th></th>\n",
       "      <th>id</th>\n",
       "      <th>b00</th>\n",
       "      <th>b21</th>\n",
       "      <th>b34</th>\n",
       "      <th>b35</th>\n",
       "      <th>b58</th>\n",
       "    </tr>\n",
       "  </thead>\n",
       "  <tbody>\n",
       "    <tr>\n",
       "      <th>0</th>\n",
       "      <td>6907-46</td>\n",
       "      <td>$-1464.28</td>\n",
       "      <td>Central</td>\n",
       "      <td>Wed.</td>\n",
       "      <td>-0.01</td>\n",
       "      <td>jul</td>\n",
       "    </tr>\n",
       "    <tr>\n",
       "      <th>1</th>\n",
       "      <td>9362-58</td>\n",
       "      <td>$2045.98</td>\n",
       "      <td>Central</td>\n",
       "      <td>Thursday</td>\n",
       "      <td>0.0</td>\n",
       "      <td>June</td>\n",
       "    </tr>\n",
       "    <tr>\n",
       "      <th>2</th>\n",
       "      <td>2687-18</td>\n",
       "      <td>$-499.39</td>\n",
       "      <td>Central</td>\n",
       "      <td>Wed.</td>\n",
       "      <td>0.01</td>\n",
       "      <td>jul</td>\n",
       "    </tr>\n",
       "    <tr>\n",
       "      <th>3</th>\n",
       "      <td>9826-18</td>\n",
       "      <td>2129.31</td>\n",
       "      <td>Central</td>\n",
       "      <td>Wednesday</td>\n",
       "      <td>-0.01 %</td>\n",
       "      <td>jul</td>\n",
       "    </tr>\n",
       "    <tr>\n",
       "      <th>4</th>\n",
       "      <td>7033-82</td>\n",
       "      <td>$ 1171.0</td>\n",
       "      <td>Central</td>\n",
       "      <td>Wednesday</td>\n",
       "      <td>0.01 %</td>\n",
       "      <td>jun</td>\n",
       "    </tr>\n",
       "  </tbody>\n",
       "</table>\n",
       "</div>"
      ],
      "text/plain": [
       "        id        b00      b21        b34      b35   b58\n",
       "0  6907-46  $-1464.28  Central       Wed.    -0.01   jul\n",
       "1  9362-58   $2045.98  Central   Thursday      0.0  June\n",
       "2  2687-18   $-499.39  Central       Wed.     0.01   jul\n",
       "3  9826-18    2129.31  Central  Wednesday  -0.01 %   jul\n",
       "4  7033-82   $ 1171.0  Central  Wednesday   0.01 %   jun"
      ]
     },
     "execution_count": 122,
     "metadata": {
      "tags": []
     },
     "output_type": "execute_result"
    }
   ],
   "source": [
    "df_A_B_prediction.select_dtypes('object').head()"
   ]
  },
  {
   "cell_type": "markdown",
   "metadata": {
    "colab_type": "text",
    "id": "BMsefOQnaT47"
   },
   "source": [
    "**Cleaning columns b00, b21, b34, b35, b58 of prediction data** "
   ]
  },
  {
   "cell_type": "code",
   "execution_count": 123,
   "metadata": {
    "colab": {
     "base_uri": "https://localhost:8080/",
     "height": 34
    },
    "colab_type": "code",
    "id": "T2kEg5soZT12",
    "outputId": "0808ac03-a808-4e35-ba39-2ed7d9ae1201"
   },
   "outputs": [
    {
     "data": {
      "text/plain": [
       "array([-1464.28,  2045.98,  -499.39, ...,   396.35,  -280.1 ,   490.12])"
      ]
     },
     "execution_count": 123,
     "metadata": {
      "tags": []
     },
     "output_type": "execute_result"
    }
   ],
   "source": [
    "df_A_B_prediction['b00'] = df_A_B_prediction['b00'].astype(str)\n",
    "\n",
    "df_A_B_prediction['b00'] = df_A_B_prediction['b00'].str.replace(' ', '')\n",
    "df_A_B_prediction['b00'] = df_A_B_prediction['b00'].str.replace('$', '')\n",
    "\n",
    "df_A_B_prediction['b00'] = df_A_B_prediction['b00'].astype(float)\n",
    "\n",
    "df_A_B_prediction['b00'].unique()"
   ]
  },
  {
   "cell_type": "code",
   "execution_count": 124,
   "metadata": {
    "colab": {
     "base_uri": "https://localhost:8080/",
     "height": 34
    },
    "colab_type": "code",
    "id": "Xu9sEp03aHns",
    "outputId": "575f7566-74c0-48e0-ad07-31455924268f"
   },
   "outputs": [
    {
     "data": {
      "text/plain": [
       "array(['Central', 'West', 'East', nan], dtype=object)"
      ]
     },
     "execution_count": 124,
     "metadata": {
      "tags": []
     },
     "output_type": "execute_result"
    }
   ],
   "source": [
    "df_A_B_prediction.b21.unique()"
   ]
  },
  {
   "cell_type": "code",
   "execution_count": 125,
   "metadata": {
    "colab": {
     "base_uri": "https://localhost:8080/",
     "height": 85
    },
    "colab_type": "code",
    "id": "hNdoEpk6aSfx",
    "outputId": "a5b02187-8c28-4b4c-a381-693df72a6992"
   },
   "outputs": [
    {
     "data": {
      "text/plain": [
       "array(['Wed', 'Thursday', 'Wednesday', 'thu', 'wed', 'tuesday', 'Thu',\n",
       "       'wednesday', 'Friday', 'thursday', 'Tue', 'Fri', 'friday', 'fri',\n",
       "       'tue', 'Tuesday', 'thurday', 'wendsday', 'mon', 'Teusday',\n",
       "       'Monday', 'nan', 'monday'], dtype=object)"
      ]
     },
     "execution_count": 125,
     "metadata": {
      "tags": []
     },
     "output_type": "execute_result"
    }
   ],
   "source": [
    "df_A_B_prediction['b34'] = df_A_B_prediction['b34'].astype(str)\n",
    "\n",
    "df_A_B_prediction['b34'] = df_A_B_prediction['b34'].str.replace(' ', '')\n",
    "df_A_B_prediction['b34'] = df_A_B_prediction['b34'].str.replace('.', '')\n",
    "\n",
    "df_A_B_prediction['b34'].unique()"
   ]
  },
  {
   "cell_type": "code",
   "execution_count": 126,
   "metadata": {
    "colab": {
     "base_uri": "https://localhost:8080/",
     "height": 51
    },
    "colab_type": "code",
    "id": "aw07mQO6bLet",
    "outputId": "59a0ea67-9b68-4d7d-d578-aa0a4e501469"
   },
   "outputs": [
    {
     "data": {
      "text/plain": [
       "array(['wednesday', 'thursday', 'tuesday', 'friday', 'monday', 'nan'],\n",
       "      dtype=object)"
      ]
     },
     "execution_count": 126,
     "metadata": {
      "tags": []
     },
     "output_type": "execute_result"
    }
   ],
   "source": [
    "df_A_B_prediction['b34'] = clean_weekdays(df_A_B_prediction['b34'],['Mon','mon','Monday'], 'monday')\n",
    "df_A_B_prediction['b34'] = clean_weekdays(df_A_B_prediction['b34'],['Tuesday','tue','Tue','Teusday'], 'tuesday')\n",
    "df_A_B_prediction['b34'] = clean_weekdays(df_A_B_prediction['b34'],['Wed','Wednesday','wed','Wendsday','wendsday'], 'wednesday')\n",
    "df_A_B_prediction['b34'] = clean_weekdays(df_A_B_prediction['b34'],['thu','Thursday','Thu','thurday'], 'thursday')\n",
    "df_A_B_prediction['b34'] = clean_weekdays(df_A_B_prediction['b34'],['Fri','fri','Friday'], 'friday')\n",
    "df_A_B_prediction['b34'].unique()"
   ]
  },
  {
   "cell_type": "code",
   "execution_count": 127,
   "metadata": {
    "colab": {
     "base_uri": "https://localhost:8080/",
     "height": 34
    },
    "colab_type": "code",
    "id": "f4PwWoL3bnm3",
    "outputId": "aaf395f3-8c14-402c-8b4d-e278de710342"
   },
   "outputs": [
    {
     "data": {
      "text/plain": [
       "array([-0.01,  0.  ,  0.01, -0.02,  0.02,  0.03, -0.03,  0.04, -0.04])"
      ]
     },
     "execution_count": 127,
     "metadata": {
      "tags": []
     },
     "output_type": "execute_result"
    }
   ],
   "source": [
    "df_A_B_prediction['b35'] = df_A_B_prediction['b35'].astype(str)\n",
    "\n",
    "df_A_B_prediction['b35'] = df_A_B_prediction['b35'].str.replace(' ', '')\n",
    "df_A_B_prediction['b35'] = df_A_B_prediction['b35'].str.replace('%', '')\n",
    "\n",
    "df_A_B_prediction['b35'] = df_A_B_prediction['b35'].astype(float)\n",
    "\n",
    "df_A_B_prediction.b35.unique()"
   ]
  },
  {
   "cell_type": "code",
   "execution_count": 128,
   "metadata": {
    "colab": {
     "base_uri": "https://localhost:8080/",
     "height": 119
    },
    "colab_type": "code",
    "id": "TdjPWpGbcCBf",
    "outputId": "2cba8494-bd5b-452b-cd7c-2c2851809243"
   },
   "outputs": [
    {
     "data": {
      "text/plain": [
       "array(['jul', 'June', 'jun', 'august', 'aug', 'August', 'Sep', 'june',\n",
       "       'Apr', 'April', 'May', 'Jun', 'oct', 'may', 'Oct', 'sep',\n",
       "       'october', 'apr', 'Aug', 'april', 'september', 'sept', 'march',\n",
       "       'March', 'mar', 'Nov', 'Sept', 'February', 'January', 'October',\n",
       "       'November', 'Apirl', 'Mar', 'December', 'Dec', 'nov', 'Jan', 'nan',\n",
       "       'november', 'feb'], dtype=object)"
      ]
     },
     "execution_count": 128,
     "metadata": {
      "tags": []
     },
     "output_type": "execute_result"
    }
   ],
   "source": [
    "df_A_B_prediction['b58'] = df_A_B_prediction['b58'].astype(str)\n",
    "\n",
    "df_A_B_prediction['b58'] = df_A_B_prediction['b58'].str.replace(' ', '')\n",
    "df_A_B_prediction['b58'] = df_A_B_prediction['b58'].str.replace('.', '')\n",
    "\n",
    "df_A_B_prediction.b58.unique()"
   ]
  },
  {
   "cell_type": "code",
   "execution_count": 129,
   "metadata": {
    "colab": {
     "base_uri": "https://localhost:8080/",
     "height": 68
    },
    "colab_type": "code",
    "id": "TPfuFQalasB5",
    "outputId": "5d19d4d5-5042-4c04-b58a-f533127ba38b"
   },
   "outputs": [
    {
     "data": {
      "text/plain": [
       "array(['july', 'june', 'august', 'september', 'april', 'may', 'october',\n",
       "       'march', 'november', 'february', 'january', 'december', 'nan'],\n",
       "      dtype=object)"
      ]
     },
     "execution_count": 129,
     "metadata": {
      "tags": []
     },
     "output_type": "execute_result"
    }
   ],
   "source": [
    "df_A_B_prediction['b58'] = clean_months(df_A_B_prediction['b58'],['jan','January','Jan'], 'january')\n",
    "df_A_B_prediction['b58'] = clean_months(df_A_B_prediction['b58'],['feb','Feb','February'], 'february')\n",
    "df_A_B_prediction['b58'] = clean_months(df_A_B_prediction['b58'],['March','Mar','mar','Marhc'], 'march')\n",
    "df_A_B_prediction['b58'] = clean_months(df_A_B_prediction['b58'],['April','apr','Apr','Apirl'], 'april')\n",
    "df_A_B_prediction['b58'] = clean_months(df_A_B_prediction['b58'],['May'], 'may')\n",
    "df_A_B_prediction['b58'] = clean_months(df_A_B_prediction['b58'],['June','Jun','jun'], 'june')\n",
    "df_A_B_prediction['b58'] = clean_months(df_A_B_prediction['b58'],['jul'], 'july')\n",
    "df_A_B_prediction['b58'] = clean_months(df_A_B_prediction['b58'],['August','aug','Aug','Augest'], 'august')\n",
    "df_A_B_prediction['b58'] = clean_months(df_A_B_prediction['b58'],['sept','sep','Sept','Sep'], 'september')\n",
    "df_A_B_prediction['b58'] = clean_months(df_A_B_prediction['b58'],['Oct','oct','October'], 'october')\n",
    "df_A_B_prediction['b58'] = clean_months(df_A_B_prediction['b58'],['Nov','November','nov'], 'november')\n",
    "df_A_B_prediction['b58'] = clean_months(df_A_B_prediction['b58'],['dec','December','Dec'], 'december')\n",
    "\n",
    "df_A_B_prediction['b58'].unique()"
   ]
  },
  {
   "cell_type": "markdown",
   "metadata": {
    "colab_type": "text",
    "id": "UeSejaPAccJY"
   },
   "source": [
    "**Fill missing numerical data**"
   ]
  },
  {
   "cell_type": "code",
   "execution_count": 0,
   "metadata": {
    "colab": {},
    "colab_type": "code",
    "id": "rf3ehdatbHjY"
   },
   "outputs": [],
   "source": [
    "numerical_columns = df_A_B_prediction.select_dtypes('float64','int64').columns.tolist()"
   ]
  },
  {
   "cell_type": "code",
   "execution_count": 0,
   "metadata": {
    "colab": {},
    "colab_type": "code",
    "id": "ixhrG0sPciDx"
   },
   "outputs": [],
   "source": [
    "df_prediction_clean = df_A_B_prediction.fillna(df_A_B_prediction[numerical_columns].mean())"
   ]
  },
  {
   "cell_type": "markdown",
   "metadata": {
    "colab_type": "text",
    "id": "xjVA0eRhdX7G"
   },
   "source": [
    "**Convert categorical data to numeric 'dummy' variables**"
   ]
  },
  {
   "cell_type": "code",
   "execution_count": 132,
   "metadata": {
    "colab": {
     "base_uri": "https://localhost:8080/",
     "height": 187
    },
    "colab_type": "code",
    "id": "CpWmcOnbdFMG",
    "outputId": "1fc99b18-49c3-4f46-8b5e-f53b50fb4e65"
   },
   "outputs": [
    {
     "data": {
      "text/plain": [
       "Index(['id', 'a00', 'a01', 'a02', 'a03', 'a04', 'a05', 'a06', 'a07', 'a08',\n",
       "       'a09', 'a10', 'a11', 'a12', 'a13', 'a14', 'a15', 'a16', 'a17', 'code',\n",
       "       'b00', 'b01', 'b02', 'b03', 'b04', 'b05', 'b06', 'b07', 'b08', 'b09',\n",
       "       'b10', 'b11', 'b12', 'b13', 'b14', 'b15', 'b16', 'b17', 'b18', 'b19',\n",
       "       'b20', 'b22', 'b23', 'b24', 'b25', 'b26', 'b27', 'b28', 'b29', 'b30',\n",
       "       'b31', 'b32', 'b33', 'b34', 'b35', 'b36', 'b37', 'b38', 'b39', 'b40',\n",
       "       'b41', 'b42', 'b43', 'b44', 'b45', 'b46', 'b47', 'b48', 'b49', 'b50',\n",
       "       'b51', 'b52', 'b53', 'b54', 'b55', 'b56', 'b57', 'b58', 'zip',\n",
       "       'b21_Central', 'b21_East', 'b21_West'],\n",
       "      dtype='object')"
      ]
     },
     "execution_count": 132,
     "metadata": {
      "tags": []
     },
     "output_type": "execute_result"
    }
   ],
   "source": [
    "df_prediction_clean = pd.get_dummies(df_prediction_clean, columns=['b21'])\n",
    "df_prediction_clean.columns"
   ]
  },
  {
   "cell_type": "code",
   "execution_count": 133,
   "metadata": {
    "colab": {
     "base_uri": "https://localhost:8080/",
     "height": 204
    },
    "colab_type": "code",
    "id": "UzMyFczmdfYd",
    "outputId": "86f5957b-33c8-4658-d2e1-c0403522d13d"
   },
   "outputs": [
    {
     "data": {
      "text/plain": [
       "Index(['id', 'a00', 'a01', 'a02', 'a03', 'a04', 'a05', 'a06', 'a07', 'a08',\n",
       "       'a09', 'a10', 'a11', 'a12', 'a13', 'a14', 'a15', 'a16', 'a17', 'code',\n",
       "       'b00', 'b01', 'b02', 'b03', 'b04', 'b05', 'b06', 'b07', 'b08', 'b09',\n",
       "       'b10', 'b11', 'b12', 'b13', 'b14', 'b15', 'b16', 'b17', 'b18', 'b19',\n",
       "       'b20', 'b22', 'b23', 'b24', 'b25', 'b26', 'b27', 'b28', 'b29', 'b30',\n",
       "       'b31', 'b32', 'b33', 'b35', 'b36', 'b37', 'b38', 'b39', 'b40', 'b41',\n",
       "       'b42', 'b43', 'b44', 'b45', 'b46', 'b47', 'b48', 'b49', 'b50', 'b51',\n",
       "       'b52', 'b53', 'b54', 'b55', 'b56', 'b57', 'b58', 'zip', 'b21_Central',\n",
       "       'b21_East', 'b21_West', 'b34_friday', 'b34_monday', 'b34_nan',\n",
       "       'b34_thursday', 'b34_tuesday', 'b34_wednesday'],\n",
       "      dtype='object')"
      ]
     },
     "execution_count": 133,
     "metadata": {
      "tags": []
     },
     "output_type": "execute_result"
    }
   ],
   "source": [
    "df_prediction_clean = pd.get_dummies(df_prediction_clean, columns=['b34'])\n",
    "df_prediction_clean.columns"
   ]
  },
  {
   "cell_type": "code",
   "execution_count": 134,
   "metadata": {
    "colab": {
     "base_uri": "https://localhost:8080/",
     "height": 255
    },
    "colab_type": "code",
    "id": "mzk9KMXFdrby",
    "outputId": "d894a415-baf0-41d8-8bfa-964b4a3564f5"
   },
   "outputs": [
    {
     "data": {
      "text/plain": [
       "Index(['id', 'a00', 'a01', 'a02', 'a03', 'a04', 'a05', 'a06', 'a07', 'a08',\n",
       "       'a09', 'a10', 'a11', 'a12', 'a13', 'a14', 'a15', 'a16', 'a17', 'code',\n",
       "       'b00', 'b01', 'b02', 'b03', 'b04', 'b05', 'b06', 'b07', 'b08', 'b09',\n",
       "       'b10', 'b11', 'b12', 'b13', 'b14', 'b15', 'b16', 'b17', 'b18', 'b19',\n",
       "       'b20', 'b22', 'b23', 'b24', 'b25', 'b26', 'b27', 'b28', 'b29', 'b30',\n",
       "       'b31', 'b32', 'b33', 'b35', 'b36', 'b37', 'b38', 'b39', 'b40', 'b41',\n",
       "       'b42', 'b43', 'b44', 'b45', 'b46', 'b47', 'b48', 'b49', 'b50', 'b51',\n",
       "       'b52', 'b53', 'b54', 'b55', 'b56', 'b57', 'zip', 'b21_Central',\n",
       "       'b21_East', 'b21_West', 'b34_friday', 'b34_monday', 'b34_nan',\n",
       "       'b34_thursday', 'b34_tuesday', 'b34_wednesday', 'b58_april',\n",
       "       'b58_august', 'b58_december', 'b58_february', 'b58_january', 'b58_july',\n",
       "       'b58_june', 'b58_march', 'b58_may', 'b58_nan', 'b58_november',\n",
       "       'b58_october', 'b58_september'],\n",
       "      dtype='object')"
      ]
     },
     "execution_count": 134,
     "metadata": {
      "tags": []
     },
     "output_type": "execute_result"
    }
   ],
   "source": [
    "df_prediction_clean = pd.get_dummies(df_prediction_clean, columns=['b58'])\n",
    "df_prediction_clean.columns"
   ]
  },
  {
   "cell_type": "markdown",
   "metadata": {
    "colab_type": "text",
    "id": "EPAIIdlhd_dA"
   },
   "source": [
    "**Testing Multicollinearity**"
   ]
  },
  {
   "cell_type": "code",
   "execution_count": 135,
   "metadata": {
    "colab": {
     "base_uri": "https://localhost:8080/",
     "height": 68
    },
    "colab_type": "code",
    "id": "ZELH7c3vd3XI",
    "outputId": "8ecc3d1e-59ac-4ef2-80b4-3db55e5ea869"
   },
   "outputs": [
    {
     "name": "stdout",
     "output_type": "stream",
     "text": [
      "b21_East, b21_Central: corr. = -0.5643600020978553\n",
      "b21_West, b21_Central: corr. = -0.7905596460013689\n",
      "b34_wednesday, b34_thursday: corr. = -0.9203984127132419\n"
     ]
    }
   ],
   "source": [
    "get_interaction_corr(df_prediction_clean.corr(),.5)"
   ]
  },
  {
   "cell_type": "code",
   "execution_count": 0,
   "metadata": {
    "colab": {},
    "colab_type": "code",
    "id": "faSLAEqPeN-O"
   },
   "outputs": [],
   "source": [
    "df_prediction_clean = df_prediction_clean.drop(['b34_wednesday', 'b21_Central'], axis=1)"
   ]
  },
  {
   "cell_type": "markdown",
   "metadata": {
    "colab_type": "text",
    "id": "p1zhHNChe794"
   },
   "source": [
    "**Prediction modeling**"
   ]
  },
  {
   "cell_type": "code",
   "execution_count": 0,
   "metadata": {
    "colab": {},
    "colab_type": "code",
    "id": "5XwV1-lsfJur"
   },
   "outputs": [],
   "source": [
    "X_pred_set = df_prediction_clean.drop(['id'],axis=1)"
   ]
  },
  {
   "cell_type": "code",
   "execution_count": 62,
   "metadata": {
    "colab": {
     "base_uri": "https://localhost:8080/",
     "height": 34
    },
    "colab_type": "code",
    "id": "vlrUWAUj--0R",
    "outputId": "b9d87eaa-ab00-41b4-908f-4a09b87bf3cf"
   },
   "outputs": [
    {
     "data": {
      "text/plain": [
       "(5366, 96)"
      ]
     },
     "execution_count": 62,
     "metadata": {
      "tags": []
     },
     "output_type": "execute_result"
    }
   ],
   "source": [
    "X_pred_set.shape"
   ]
  },
  {
   "cell_type": "code",
   "execution_count": 63,
   "metadata": {
    "colab": {
     "base_uri": "https://localhost:8080/",
     "height": 34
    },
    "colab_type": "code",
    "id": "Qg8CQsI7_Dz0",
    "outputId": "1107c8fc-36e2-4622-b058-10fc74581424"
   },
   "outputs": [
    {
     "data": {
      "text/plain": [
       "(7515, 95)"
      ]
     },
     "execution_count": 63,
     "metadata": {
      "tags": []
     },
     "output_type": "execute_result"
    }
   ],
   "source": [
    "X.shape"
   ]
  },
  {
   "cell_type": "markdown",
   "metadata": {
    "colab_type": "text",
    "id": "jYm4_s2Zg39Y"
   },
   "source": [
    "**Fitting Logistic Regression to the full learning dataset**"
   ]
  },
  {
   "cell_type": "code",
   "execution_count": 140,
   "metadata": {
    "colab": {
     "base_uri": "https://localhost:8080/",
     "height": 102
    },
    "colab_type": "code",
    "id": "mZt9miEsedOC",
    "outputId": "14306c16-f167-48bb-ae86-e091552db061"
   },
   "outputs": [
    {
     "data": {
      "text/plain": [
       "LogisticRegression(C=1.0, class_weight='balanced', dual=False,\n",
       "                   fit_intercept=True, intercept_scaling=1, l1_ratio=None,\n",
       "                   max_iter=100, multi_class='auto', n_jobs=None, penalty='l2',\n",
       "                   random_state=None, solver='newton-cg', tol=0.0001, verbose=0,\n",
       "                   warm_start=False)"
      ]
     },
     "execution_count": 140,
     "metadata": {
      "tags": []
     },
     "output_type": "execute_result"
    }
   ],
   "source": [
    "lr_pred = LogisticRegression(C=1.0, class_weight='balanced', penalty='l2', solver='newton-cg')\n",
    "\n",
    "lr_pred.fit(X, y)"
   ]
  },
  {
   "cell_type": "code",
   "execution_count": 158,
   "metadata": {
    "colab": {
     "base_uri": "https://localhost:8080/",
     "height": 136
    },
    "colab_type": "code",
    "id": "OPuwMDZA4aHV",
    "outputId": "d353aba9-c6c2-4d0e-8100-b8f5436529a4"
   },
   "outputs": [
    {
     "data": {
      "text/plain": [
       "array([[0.67086438, 0.32913562],\n",
       "       [0.49451022, 0.50548978],\n",
       "       [0.5191937 , 0.4808063 ],\n",
       "       ...,\n",
       "       [0.3957422 , 0.6042578 ],\n",
       "       [0.86972563, 0.13027437],\n",
       "       [0.83894652, 0.16105348]])"
      ]
     },
     "execution_count": 158,
     "metadata": {
      "tags": []
     },
     "output_type": "execute_result"
    }
   ],
   "source": [
    "y_logreg_probabilities = lr_pred.predict_proba(X_pred_set)\n",
    "y_logreg_probabilities"
   ]
  },
  {
   "cell_type": "code",
   "execution_count": 159,
   "metadata": {
    "colab": {
     "base_uri": "https://localhost:8080/",
     "height": 34
    },
    "colab_type": "code",
    "id": "3ngzhhsiDMh-",
    "outputId": "7f72c8ad-6ed2-4743-d5f6-af79bf4abeba"
   },
   "outputs": [
    {
     "data": {
      "text/plain": [
       "array([0, 1, 0, ..., 1, 0, 0])"
      ]
     },
     "execution_count": 159,
     "metadata": {
      "tags": []
     },
     "output_type": "execute_result"
    }
   ],
   "source": [
    "y_logreg_p = lr_pred.predict(X_pred_set)\n",
    "y_logreg_p"
   ]
  },
  {
   "cell_type": "code",
   "execution_count": 0,
   "metadata": {
    "colab": {},
    "colab_type": "code",
    "id": "JtYpOto047Bj"
   },
   "outputs": [],
   "source": [
    "lr_prob_list = y_logreg_probabilities.tolist()"
   ]
  },
  {
   "cell_type": "code",
   "execution_count": 147,
   "metadata": {
    "colab": {
     "base_uri": "https://localhost:8080/",
     "height": 142
    },
    "colab_type": "code",
    "id": "UiEh-zkGftaj",
    "outputId": "0cb0a2a2-01db-49a5-f803-f3a255045ab7"
   },
   "outputs": [
    {
     "data": {
      "text/html": [
       "<div>\n",
       "<style scoped>\n",
       "    .dataframe tbody tr th:only-of-type {\n",
       "        vertical-align: middle;\n",
       "    }\n",
       "\n",
       "    .dataframe tbody tr th {\n",
       "        vertical-align: top;\n",
       "    }\n",
       "\n",
       "    .dataframe thead th {\n",
       "        text-align: right;\n",
       "    }\n",
       "</style>\n",
       "<table border=\"1\" class=\"dataframe\">\n",
       "  <thead>\n",
       "    <tr style=\"text-align: right;\">\n",
       "      <th></th>\n",
       "      <th>Prediction</th>\n",
       "    </tr>\n",
       "  </thead>\n",
       "  <tbody>\n",
       "    <tr>\n",
       "      <th>0</th>\n",
       "      <td>0.329136</td>\n",
       "    </tr>\n",
       "    <tr>\n",
       "      <th>1</th>\n",
       "      <td>0.505490</td>\n",
       "    </tr>\n",
       "    <tr>\n",
       "      <th>2</th>\n",
       "      <td>0.480806</td>\n",
       "    </tr>\n",
       "  </tbody>\n",
       "</table>\n",
       "</div>"
      ],
      "text/plain": [
       "   Prediction\n",
       "0    0.329136\n",
       "1    0.505490\n",
       "2    0.480806"
      ]
     },
     "execution_count": 147,
     "metadata": {
      "tags": []
     },
     "output_type": "execute_result"
    }
   ],
   "source": [
    "df_logreg_predictions = pd.DataFrame(lr_prob_list, columns=['pred0' , 'Prediction'])\n",
    "df_logreg_predictions = df_logreg_predictions.drop(['pred0'], axis=1)\n",
    "df_logreg_predictions.head(3)"
   ]
  },
  {
   "cell_type": "code",
   "execution_count": 148,
   "metadata": {
    "colab": {
     "base_uri": "https://localhost:8080/",
     "height": 142
    },
    "colab_type": "code",
    "id": "upUi8k1igTpw",
    "outputId": "5934ae5a-bb25-434d-df10-94874af961e5"
   },
   "outputs": [
    {
     "data": {
      "text/html": [
       "<div>\n",
       "<style scoped>\n",
       "    .dataframe tbody tr th:only-of-type {\n",
       "        vertical-align: middle;\n",
       "    }\n",
       "\n",
       "    .dataframe tbody tr th {\n",
       "        vertical-align: top;\n",
       "    }\n",
       "\n",
       "    .dataframe thead th {\n",
       "        text-align: right;\n",
       "    }\n",
       "</style>\n",
       "<table border=\"1\" class=\"dataframe\">\n",
       "  <thead>\n",
       "    <tr style=\"text-align: right;\">\n",
       "      <th></th>\n",
       "      <th>id</th>\n",
       "      <th>Prediction</th>\n",
       "    </tr>\n",
       "  </thead>\n",
       "  <tbody>\n",
       "    <tr>\n",
       "      <th>0</th>\n",
       "      <td>6907-46</td>\n",
       "      <td>0.329136</td>\n",
       "    </tr>\n",
       "    <tr>\n",
       "      <th>1</th>\n",
       "      <td>9362-58</td>\n",
       "      <td>0.505490</td>\n",
       "    </tr>\n",
       "    <tr>\n",
       "      <th>2</th>\n",
       "      <td>2687-18</td>\n",
       "      <td>0.480806</td>\n",
       "    </tr>\n",
       "  </tbody>\n",
       "</table>\n",
       "</div>"
      ],
      "text/plain": [
       "        id  Prediction\n",
       "0  6907-46    0.329136\n",
       "1  9362-58    0.505490\n",
       "2  2687-18    0.480806"
      ]
     },
     "execution_count": 148,
     "metadata": {
      "tags": []
     },
     "output_type": "execute_result"
    }
   ],
   "source": [
    "lr_result = pd.concat([df_prediction_clean['id'], df_logreg_predictions], axis=1, sort=False)\n",
    "lr_result.head(3)"
   ]
  },
  {
   "cell_type": "markdown",
   "metadata": {
    "colab_type": "text",
    "id": "IaG6C3FnmXLI"
   },
   "source": [
    "**Export logistic regression result dataframe to csv file**"
   ]
  },
  {
   "cell_type": "code",
   "execution_count": 149,
   "metadata": {
    "colab": {
     "base_uri": "https://localhost:8080/",
     "height": 122
    },
    "colab_type": "code",
    "id": "d0gCqSzimWYh",
    "outputId": "7535a213-827d-4629-8791-e2d41b9e9a7a"
   },
   "outputs": [
    {
     "name": "stdout",
     "output_type": "stream",
     "text": [
      "Go to this URL in a browser: https://accounts.google.com/o/oauth2/auth?client_id=947318989803-6bn6qk8qdgf4n4g3pfee6491hc0brc4i.apps.googleusercontent.com&redirect_uri=urn%3aietf%3awg%3aoauth%3a2.0%3aoob&response_type=code&scope=email%20https%3a%2f%2fwww.googleapis.com%2fauth%2fdocs.test%20https%3a%2f%2fwww.googleapis.com%2fauth%2fdrive%20https%3a%2f%2fwww.googleapis.com%2fauth%2fdrive.photos.readonly%20https%3a%2f%2fwww.googleapis.com%2fauth%2fpeopleapi.readonly\n",
      "\n",
      "Enter your authorization code:\n",
      "··········\n",
      "Mounted at drive\n"
     ]
    }
   ],
   "source": [
    "from google.colab import drive\n",
    "drive.mount('drive')"
   ]
  },
  {
   "cell_type": "code",
   "execution_count": 0,
   "metadata": {
    "colab": {},
    "colab_type": "code",
    "id": "fMQMoUKPhuZc"
   },
   "outputs": [],
   "source": [
    "lr_result.to_csv('predictions_CoreyCoole_model_1.csv')\n",
    "!cp predictions_CoreyCoole_model_1.csv \"drive/My Drive/\""
   ]
  },
  {
   "cell_type": "markdown",
   "metadata": {
    "colab_type": "text",
    "id": "wEjIr7CUjyer"
   },
   "source": [
    "**Fitting XGB Classifier to the full learning set**"
   ]
  },
  {
   "cell_type": "code",
   "execution_count": 152,
   "metadata": {
    "colab": {
     "base_uri": "https://localhost:8080/",
     "height": 136
    },
    "colab_type": "code",
    "id": "cflA_pEPjXko",
    "outputId": "c4382d72-9f3b-430d-950d-0e6bb7d557f8"
   },
   "outputs": [
    {
     "data": {
      "text/plain": [
       "XGBClassifier(alpha=0, base_score=0.5, booster='gbtree', colsample_bylevel=1,\n",
       "              colsample_bynode=1, colsample_bytree=1, gamma=0,\n",
       "              learning_rate=0.1, max_delta_step=0, max_depth=12,\n",
       "              min_child_weight=1, missing=None, n_estimators=100, n_jobs=1,\n",
       "              nthread=None, objective='binary:logistic', random_state=0,\n",
       "              reg_alpha=0, reg_lambda=1, scale_pos_weight=10, seed=None,\n",
       "              silent=None, subsample=1, verbosity=1)"
      ]
     },
     "execution_count": 152,
     "metadata": {
      "tags": []
     },
     "output_type": "execute_result"
    }
   ],
   "source": [
    "xgbc_pred = XGBClassifier(alpha=0, booster='gbtree', reg_lambda=1, max_depth=12, scale_pos_weight=10)\n",
    "\n",
    "xgbc_pred.fit(X, y)"
   ]
  },
  {
   "cell_type": "code",
   "execution_count": 164,
   "metadata": {
    "colab": {
     "base_uri": "https://localhost:8080/",
     "height": 136
    },
    "colab_type": "code",
    "id": "FrAThEGtjo1e",
    "outputId": "4f7846ee-0311-49a0-f6ac-fa3652aa5f4f"
   },
   "outputs": [
    {
     "data": {
      "text/plain": [
       "array([[0.9915377 , 0.00846228],\n",
       "       [0.99609214, 0.00390784],\n",
       "       [0.9757644 , 0.02423559],\n",
       "       ...,\n",
       "       [0.99524915, 0.00475086],\n",
       "       [0.99560183, 0.00439817],\n",
       "       [0.8012216 , 0.19877836]], dtype=float32)"
      ]
     },
     "execution_count": 164,
     "metadata": {
      "tags": []
     },
     "output_type": "execute_result"
    }
   ],
   "source": [
    "y_xgbc_probabilities = xgbc_pred.predict_proba(X_pred_set)\n",
    "y_xgbc_probabilities"
   ]
  },
  {
   "cell_type": "code",
   "execution_count": 163,
   "metadata": {
    "colab": {
     "base_uri": "https://localhost:8080/",
     "height": 34
    },
    "colab_type": "code",
    "id": "cTBgCPPpDkuA",
    "outputId": "f3f6e9c0-2db3-47f2-e54b-a47ef9ebcb60"
   },
   "outputs": [
    {
     "data": {
      "text/plain": [
       "array([0, 0, 0, ..., 0, 0, 0])"
      ]
     },
     "execution_count": 163,
     "metadata": {
      "tags": []
     },
     "output_type": "execute_result"
    }
   ],
   "source": [
    "y_xgbc_p = xgbc_pred.predict(X_pred_set)\n",
    "y_xgbc_p"
   ]
  },
  {
   "cell_type": "code",
   "execution_count": 0,
   "metadata": {
    "colab": {},
    "colab_type": "code",
    "id": "sKjpz-hS89es"
   },
   "outputs": [],
   "source": [
    "xgbc_prob_list = y_xgbc_probabilities.tolist()"
   ]
  },
  {
   "cell_type": "code",
   "execution_count": 161,
   "metadata": {
    "colab": {
     "base_uri": "https://localhost:8080/",
     "height": 142
    },
    "colab_type": "code",
    "id": "kN1B2RUcjo6u",
    "outputId": "48500e2f-9f7f-4c45-9d02-f32a002eda42"
   },
   "outputs": [
    {
     "data": {
      "text/html": [
       "<div>\n",
       "<style scoped>\n",
       "    .dataframe tbody tr th:only-of-type {\n",
       "        vertical-align: middle;\n",
       "    }\n",
       "\n",
       "    .dataframe tbody tr th {\n",
       "        vertical-align: top;\n",
       "    }\n",
       "\n",
       "    .dataframe thead th {\n",
       "        text-align: right;\n",
       "    }\n",
       "</style>\n",
       "<table border=\"1\" class=\"dataframe\">\n",
       "  <thead>\n",
       "    <tr style=\"text-align: right;\">\n",
       "      <th></th>\n",
       "      <th>Prediction</th>\n",
       "    </tr>\n",
       "  </thead>\n",
       "  <tbody>\n",
       "    <tr>\n",
       "      <th>0</th>\n",
       "      <td>0.008462</td>\n",
       "    </tr>\n",
       "    <tr>\n",
       "      <th>1</th>\n",
       "      <td>0.003908</td>\n",
       "    </tr>\n",
       "    <tr>\n",
       "      <th>2</th>\n",
       "      <td>0.024236</td>\n",
       "    </tr>\n",
       "  </tbody>\n",
       "</table>\n",
       "</div>"
      ],
      "text/plain": [
       "   Prediction\n",
       "0    0.008462\n",
       "1    0.003908\n",
       "2    0.024236"
      ]
     },
     "execution_count": 161,
     "metadata": {
      "tags": []
     },
     "output_type": "execute_result"
    }
   ],
   "source": [
    "df_xgbc_predictions = pd.DataFrame(xgbc_prob_list, columns=['pred0' , 'Prediction'])\n",
    "df_xgbc_predictions = df_xgbc_predictions.drop(['pred0'], axis=1)\n",
    "df_xgbc_predictions.head(3)"
   ]
  },
  {
   "cell_type": "code",
   "execution_count": 162,
   "metadata": {
    "colab": {
     "base_uri": "https://localhost:8080/",
     "height": 142
    },
    "colab_type": "code",
    "id": "p-CxXO9ljo_4",
    "outputId": "c160e9c5-e301-43a7-b066-025eef7f26ab"
   },
   "outputs": [
    {
     "data": {
      "text/html": [
       "<div>\n",
       "<style scoped>\n",
       "    .dataframe tbody tr th:only-of-type {\n",
       "        vertical-align: middle;\n",
       "    }\n",
       "\n",
       "    .dataframe tbody tr th {\n",
       "        vertical-align: top;\n",
       "    }\n",
       "\n",
       "    .dataframe thead th {\n",
       "        text-align: right;\n",
       "    }\n",
       "</style>\n",
       "<table border=\"1\" class=\"dataframe\">\n",
       "  <thead>\n",
       "    <tr style=\"text-align: right;\">\n",
       "      <th></th>\n",
       "      <th>id</th>\n",
       "      <th>Prediction</th>\n",
       "    </tr>\n",
       "  </thead>\n",
       "  <tbody>\n",
       "    <tr>\n",
       "      <th>0</th>\n",
       "      <td>6907-46</td>\n",
       "      <td>0.008462</td>\n",
       "    </tr>\n",
       "    <tr>\n",
       "      <th>1</th>\n",
       "      <td>9362-58</td>\n",
       "      <td>0.003908</td>\n",
       "    </tr>\n",
       "    <tr>\n",
       "      <th>2</th>\n",
       "      <td>2687-18</td>\n",
       "      <td>0.024236</td>\n",
       "    </tr>\n",
       "  </tbody>\n",
       "</table>\n",
       "</div>"
      ],
      "text/plain": [
       "        id  Prediction\n",
       "0  6907-46    0.008462\n",
       "1  9362-58    0.003908\n",
       "2  2687-18    0.024236"
      ]
     },
     "execution_count": 162,
     "metadata": {
      "tags": []
     },
     "output_type": "execute_result"
    }
   ],
   "source": [
    "xgbc_result = pd.concat([df_prediction_clean['id'], df_xgbc_predictions], axis=1, sort=False)\n",
    "xgbc_result.head(3)"
   ]
  },
  {
   "cell_type": "markdown",
   "metadata": {},
   "source": [
    "**Export XGBC result dataframe to csv file**"
   ]
  },
  {
   "cell_type": "code",
   "execution_count": 0,
   "metadata": {
    "colab": {},
    "colab_type": "code",
    "id": "Bg8xlD_alG9-"
   },
   "outputs": [],
   "source": [
    "xgbc_result.to_csv('predictions_CoreyCoole_model_2.csv')\n",
    "!cp predictions_CoreyCoole_model_2.csv \"drive/My Drive/\""
   ]
  },
  {
   "cell_type": "code",
   "execution_count": 0,
   "metadata": {
    "colab": {},
    "colab_type": "code",
    "id": "etqNlushl62-"
   },
   "outputs": [],
   "source": []
  }
 ],
 "metadata": {
  "accelerator": "GPU",
  "colab": {
   "name": "NW_modeling_ex.ipynb",
   "provenance": [],
   "toc_visible": true
  },
  "kernelspec": {
   "display_name": "Python 3",
   "language": "python",
   "name": "python3"
  },
  "language_info": {
   "codemirror_mode": {
    "name": "ipython",
    "version": 3
   },
   "file_extension": ".py",
   "mimetype": "text/x-python",
   "name": "python",
   "nbconvert_exporter": "python",
   "pygments_lexer": "ipython3",
   "version": "3.8.3"
  }
 },
 "nbformat": 4,
 "nbformat_minor": 1
}
